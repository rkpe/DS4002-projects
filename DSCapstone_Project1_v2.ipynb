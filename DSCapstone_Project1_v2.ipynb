{
  "nbformat": 4,
  "nbformat_minor": 0,
  "metadata": {
    "colab": {
      "provenance": [],
      "collapsed_sections": [
        "sHHALETyXZFu",
        "GY9M412yXfy4",
        "XcPU0UicXqT4",
        "Ig2s1gf0YPpZ",
        "kY8Lt5MdRDG4",
        "gxj180fwRaTo",
        "BJcZqbWBR_Zw",
        "gnJWURMKSiMR",
        "lvsUCnZFZ3Xi",
        "C_3K4IJfd5d3",
        "QUne5lyreIlm",
        "Lxf8ACBAf-Sl",
        "CSLKmSb-l54P",
        "-hgMyJtLmBa8",
        "0Tua5raBozsU",
        "p_vToy6oHyYz",
        "grOyA9vgHNk2"
      ],
      "toc_visible": true,
      "include_colab_link": true
    },
    "kernelspec": {
      "name": "python3",
      "display_name": "Python 3"
    },
    "language_info": {
      "name": "python"
    }
  },
  "cells": [
    {
      "cell_type": "markdown",
      "metadata": {
        "id": "view-in-github",
        "colab_type": "text"
      },
      "source": [
        "<a href=\"https://colab.research.google.com/github/rkpe/DS4002-projects/blob/main/DSCapstone_Project1_v2.ipynb\" target=\"_parent\"><img src=\"https://colab.research.google.com/assets/colab-badge.svg\" alt=\"Open In Colab\"/></a>"
      ]
    },
    {
      "cell_type": "markdown",
      "source": [
        "Presentation Link: https://docs.google.com/presentation/d/1B1rtYeTDv2mCkWU8uOsU90Fqt8rm2n7GweVBTPeUfw8/edit?usp=sharing"
      ],
      "metadata": {
        "id": "YpfsLmXG5Es-"
      }
    },
    {
      "cell_type": "markdown",
      "source": [
        "# **Importing Libraries**\n",
        "\n",
        "---\n",
        "\n"
      ],
      "metadata": {
        "id": "sHHALETyXZFu"
      }
    },
    {
      "cell_type": "code",
      "execution_count": null,
      "metadata": {
        "id": "TLfFYkWH0q6K"
      },
      "outputs": [],
      "source": [
        "import pandas as pd\n",
        "import numpy as np\n",
        "import matplotlib.pyplot as plt\n",
        "import seaborn as sns\n",
        "\n",
        "from sklearn.model_selection import train_test_split, GridSearchCV, RepeatedStratifiedKFold\n",
        "from sklearn import metrics\n",
        "from sklearn.metrics import confusion_matrix, ConfusionMatrixDisplay\n",
        "from sklearn.pipeline import make_pipeline, Pipeline\n",
        "from sklearn.impute import SimpleImputer\n",
        "from sklearn.preprocessing import StandardScaler, OneHotEncoder\n",
        "from sklearn.compose import ColumnTransformer\n",
        "from sklearn.model_selection import cross_val_score\n",
        "from sklearn.linear_model import LinearRegression\n",
        "from sklearn.tree import DecisionTreeRegressor, export_graphviz \n",
        "from sklearn.ensemble import RandomForestRegressor\n",
        "from sklearn.svm import SVR\n",
        "from sklearn.preprocessing import OrdinalEncoder"
      ]
    },
    {
      "cell_type": "code",
      "source": [
        "def loadData(filename):\n",
        "  data = pd.read_csv(filename)\n",
        "  return data"
      ],
      "metadata": {
        "id": "MrnJj5-F06Tb"
      },
      "execution_count": null,
      "outputs": []
    },
    {
      "cell_type": "markdown",
      "source": [
        "# **Background**\n",
        "\n",
        "***Problem***\n",
        "\n",
        "*   Global Food Crisis\n",
        "> *   According to the World Food Programme (WFP), more than *48 million people* are facing emergency levels of hunger and are threatened with acute malnutrition, starvation, and even death\n",
        ">> *  The United Nations reported the need for a 60% increase in food production by *2050* if we hope to serve our growing population of 9.7 billion\n",
        "> *   Global Warming has changed temperature and rainfall patterns, affecting soil conditions, which has resulted in unpredictable crop yield\n",
        "\n",
        "***Solution***\n",
        "\n",
        "\n",
        "*   Precision Agriculture\n",
        "> *   Ariel imagery and AI image identification to monitor and manage fields\n",
        "> *   Crop monitors to efficiently use input resources\n",
        "> *   Soil monitors identifying best crop recommendations\n",
        "\n",
        "\n"
      ],
      "metadata": {
        "id": "z8HkUdgFREh2"
      }
    },
    {
      "cell_type": "markdown",
      "source": [
        "# **Merging Datasets**\n",
        "---\n",
        "\n"
      ],
      "metadata": {
        "id": "GY9M412yXfy4"
      }
    },
    {
      "cell_type": "markdown",
      "source": [
        "**Dataset Source**\n",
        "\n",
        "https://www.kaggle.com/datasets/anushkahedaoo/farming-factors?select=Crops.csv\n"
      ],
      "metadata": {
        "id": "e1VhyA8bQwGD"
      }
    },
    {
      "cell_type": "markdown",
      "source": [
        "### **Loading Crops Data**"
      ],
      "metadata": {
        "id": "XcPU0UicXqT4"
      }
    },
    {
      "cell_type": "code",
      "source": [
        "crop_data = loadData('Crops.csv')"
      ],
      "metadata": {
        "id": "ypI8L6uH09K1"
      },
      "execution_count": null,
      "outputs": []
    },
    {
      "cell_type": "markdown",
      "source": [
        "### **Crop Selection Process**"
      ],
      "metadata": {
        "id": "Ig2s1gf0YPpZ"
      }
    },
    {
      "cell_type": "code",
      "source": [
        "crop_data.info()"
      ],
      "metadata": {
        "id": "Eg5bku9w1hcL",
        "colab": {
          "base_uri": "https://localhost:8080/"
        },
        "outputId": "612aa35f-e225-4e66-c4b8-f5de5814e219"
      },
      "execution_count": null,
      "outputs": [
        {
          "output_type": "stream",
          "name": "stdout",
          "text": [
            "<class 'pandas.core.frame.DataFrame'>\n",
            "RangeIndex: 2484 entries, 0 to 2483\n",
            "Data columns (total 80 columns):\n",
            " #   Column                                       Non-Null Count  Dtype  \n",
            "---  ------                                       --------------  -----  \n",
            " 0   Dist Code                                    2484 non-null   int64  \n",
            " 1   Year                                         2484 non-null   int64  \n",
            " 2   State Code                                   2484 non-null   int64  \n",
            " 3   State Name                                   2484 non-null   object \n",
            " 4   Dist Name                                    2484 non-null   object \n",
            " 5   RICE AREA (1000 ha)                          2484 non-null   float64\n",
            " 6   RICE PRODUCTION (1000 tons)                  2484 non-null   float64\n",
            " 7   RICE YIELD (Kg per ha)                       2484 non-null   float64\n",
            " 8   WHEAT AREA (1000 ha)                         2484 non-null   float64\n",
            " 9   WHEAT PRODUCTION (1000 tons)                 2484 non-null   float64\n",
            " 10  WHEAT YIELD (Kg per ha)                      2484 non-null   float64\n",
            " 11  KHARIF SORGHUM AREA (1000 ha)                2484 non-null   float64\n",
            " 12  KHARIF SORGHUM PRODUCTION (1000 tons)        2484 non-null   float64\n",
            " 13  KHARIF SORGHUM YIELD (Kg per ha)             2484 non-null   float64\n",
            " 14  RABI SORGHUM AREA (1000 ha)                  2484 non-null   float64\n",
            " 15  RABI SORGHUM PRODUCTION (1000 tons)          2484 non-null   float64\n",
            " 16  RABI SORGHUM YIELD (Kg per ha)               2484 non-null   float64\n",
            " 17  SORGHUM AREA (1000 ha)                       2484 non-null   float64\n",
            " 18  SORGHUM PRODUCTION (1000 tons)               2484 non-null   float64\n",
            " 19  SORGHUM YIELD (Kg per ha)                    2484 non-null   float64\n",
            " 20  PEARL MILLET AREA (1000 ha)                  2484 non-null   float64\n",
            " 21  PEARL MILLET PRODUCTION (1000 tons)          2484 non-null   float64\n",
            " 22  PEARL MILLET YIELD (Kg per ha)               2484 non-null   float64\n",
            " 23  MAIZE AREA (1000 ha)                         2484 non-null   float64\n",
            " 24  MAIZE PRODUCTION (1000 tons)                 2484 non-null   float64\n",
            " 25  MAIZE YIELD (Kg per ha)                      2484 non-null   float64\n",
            " 26  FINGER MILLET AREA (1000 ha)                 2484 non-null   float64\n",
            " 27  FINGER MILLET PRODUCTION (1000 tons)         2484 non-null   float64\n",
            " 28  FINGER MILLET YIELD (Kg per ha)              2484 non-null   float64\n",
            " 29  BARLEY AREA (1000 ha)                        2484 non-null   float64\n",
            " 30  BARLEY PRODUCTION (1000 tons)                2484 non-null   float64\n",
            " 31  BARLEY YIELD (Kg per ha)                     2484 non-null   float64\n",
            " 32  CHICKPEA AREA (1000 ha)                      2484 non-null   float64\n",
            " 33  CHICKPEA PRODUCTION (1000 tons)              2484 non-null   float64\n",
            " 34  CHICKPEA YIELD (Kg per ha)                   2484 non-null   float64\n",
            " 35  PIGEONPEA AREA (1000 ha)                     2484 non-null   float64\n",
            " 36  PIGEONPEA PRODUCTION (1000 tons)             2484 non-null   float64\n",
            " 37  PIGEONPEA YIELD (Kg per ha)                  2484 non-null   float64\n",
            " 38  MINOR PULSES AREA (1000 ha)                  2484 non-null   float64\n",
            " 39  MINOR PULSES PRODUCTION (1000 tons)          2484 non-null   float64\n",
            " 40  MINOR PULSES YIELD (Kg per ha)               2484 non-null   float64\n",
            " 41  GROUNDNUT AREA (1000 ha)                     2484 non-null   float64\n",
            " 42  GROUNDNUT PRODUCTION (1000 tons)             2484 non-null   float64\n",
            " 43  GROUNDNUT YIELD (Kg per ha)                  2484 non-null   float64\n",
            " 44  SESAMUM AREA (1000 ha)                       2484 non-null   float64\n",
            " 45  SESAMUM PRODUCTION (1000 tons)               2484 non-null   float64\n",
            " 46  SESAMUM YIELD (Kg per ha)                    2484 non-null   float64\n",
            " 47  RAPESEED AND MUSTARD AREA (1000 ha)          2484 non-null   float64\n",
            " 48  RAPESEED AND MUSTARD PRODUCTION (1000 tons)  2484 non-null   float64\n",
            " 49  RAPESEED AND MUSTARD YIELD (Kg per ha)       2484 non-null   float64\n",
            " 50  SAFFLOWER AREA (1000 ha)                     2484 non-null   float64\n",
            " 51  SAFFLOWER PRODUCTION (1000 tons)             2484 non-null   float64\n",
            " 52  SAFFLOWER YIELD (Kg per ha)                  2484 non-null   float64\n",
            " 53  CASTOR AREA (1000 ha)                        2484 non-null   float64\n",
            " 54  CASTOR PRODUCTION (1000 tons)                2484 non-null   float64\n",
            " 55  CASTOR YIELD (Kg per ha)                     2484 non-null   float64\n",
            " 56  LINSEED AREA (1000 ha)                       2484 non-null   float64\n",
            " 57  LINSEED PRODUCTION (1000 tons)               2484 non-null   float64\n",
            " 58  LINSEED YIELD (Kg per ha)                    2484 non-null   float64\n",
            " 59  SUNFLOWER AREA (1000 ha)                     2484 non-null   float64\n",
            " 60  SUNFLOWER PRODUCTION (1000 tons)             2484 non-null   float64\n",
            " 61  SUNFLOWER YIELD (Kg per ha)                  2484 non-null   float64\n",
            " 62  SOYABEAN AREA (1000 ha)                      2484 non-null   float64\n",
            " 63  SOYABEAN PRODUCTION (1000 tons)              2484 non-null   float64\n",
            " 64  SOYABEAN YIELD (Kg per ha)                   2484 non-null   float64\n",
            " 65  OILSEEDS AREA (1000 ha)                      2484 non-null   float64\n",
            " 66  OILSEEDS PRODUCTION (1000 tons)              2484 non-null   float64\n",
            " 67  OILSEEDS YIELD (Kg per ha)                   2484 non-null   float64\n",
            " 68  SUGARCANE AREA (1000 ha)                     2484 non-null   float64\n",
            " 69  SUGARCANE PRODUCTION (1000 tons)             2484 non-null   float64\n",
            " 70  SUGARCANE YIELD (Kg per ha)                  2484 non-null   float64\n",
            " 71  COTTON AREA (1000 ha)                        2484 non-null   float64\n",
            " 72  COTTON PRODUCTION (1000 tons)                2484 non-null   float64\n",
            " 73  COTTON YIELD (Kg per ha)                     2484 non-null   float64\n",
            " 74  FRUITS AREA (1000 ha)                        2484 non-null   float64\n",
            " 75  VEGETABLES AREA (1000 ha)                    2484 non-null   float64\n",
            " 76  FRUITS AND VEGETABLES AREA (1000 ha)         2484 non-null   float64\n",
            " 77  POTATOES AREA (1000 ha)                      2484 non-null   float64\n",
            " 78  ONION AREA (1000 ha)                         2484 non-null   float64\n",
            " 79  FODDER AREA (1000 ha)                        2484 non-null   float64\n",
            "dtypes: float64(75), int64(3), object(2)\n",
            "memory usage: 1.5+ MB\n"
          ]
        }
      ]
    },
    {
      "cell_type": "code",
      "source": [
        "count = 1\n",
        "plt.figure(figsize=(20, 40))\n",
        "for col_name in crop_data.columns:\n",
        "  if \"YIELD\" in col_name: \n",
        "    # crop_data.hist(column=col_name, bins=20)\n",
        "    plt.subplot(8, 3, count)\n",
        "    plt.hist(crop_data[col_name], bins=np.linspace(0, 20000, 20))\n",
        "    plt.ylim(0, 2500)\n",
        "    plt.ylabel('Frequency')\n",
        "    plt.title(col_name)\n",
        "    count += 1\n",
        "plt.show()"
      ],
      "metadata": {
        "colab": {
          "base_uri": "https://localhost:8080/"
        },
        "id": "PsPhvbDo1l3o",
        "outputId": "c95b7bce-3ee4-4bfc-c598-c5bba64cbc69"
      },
      "execution_count": null,
      "outputs": [
        {
          "output_type": "display_data",
          "data": {
            "text/plain": [
              "<Figure size 1440x2880 with 23 Axes>"
            ],
            "image/png": "[encoded data removed]"
          },
          "metadata": {
            "needs_background": "light"
          }
        }
      ]
    },
    {
      "cell_type": "markdown",
      "source": [
        "After analyzing the above crop yield histograms, we decided to include the following crops: Rice, Wheat, Maize, Sugarcane"
      ],
      "metadata": {
        "id": "GWyDv39wYWr7"
      }
    },
    {
      "cell_type": "code",
      "source": [
        "cols =  ['Dist Code', 'Year', 'State Code', 'State Name' , 'Dist Name', 'RICE YIELD (Kg per ha)', 'WHEAT YIELD (Kg per ha)', 'SUGARCANE YIELD (Kg per ha)','MAIZE YIELD (Kg per ha)']\n",
        "crop = crop_data[cols]"
      ],
      "metadata": {
        "id": "fQYjDO4GQrXE"
      },
      "execution_count": null,
      "outputs": []
    },
    {
      "cell_type": "markdown",
      "source": [
        "### **Loading Fertilizer Data**"
      ],
      "metadata": {
        "id": "kY8Lt5MdRDG4"
      }
    },
    {
      "cell_type": "code",
      "source": [
        "fert = loadData('Fertilizer_Consumption.csv')"
      ],
      "metadata": {
        "id": "j6W5z-I8Q873"
      },
      "execution_count": null,
      "outputs": []
    },
    {
      "cell_type": "code",
      "source": [
        "fert.info()"
      ],
      "metadata": {
        "id": "mH5EK9GCROqU",
        "colab": {
          "base_uri": "https://localhost:8080/"
        },
        "outputId": "e3006bc7-cd63-4e29-e8f1-cb5b412e0ec5"
      },
      "execution_count": null,
      "outputs": [
        {
          "output_type": "stream",
          "name": "stdout",
          "text": [
            "<class 'pandas.core.frame.DataFrame'>\n",
            "RangeIndex: 2481 entries, 0 to 2480\n",
            "Data columns (total 20 columns):\n",
            " #   Column                               Non-Null Count  Dtype  \n",
            "---  ------                               --------------  -----  \n",
            " 0   Dist Code                            2481 non-null   int64  \n",
            " 1   Year                                 2481 non-null   int64  \n",
            " 2   State Code                           2481 non-null   int64  \n",
            " 3   State Name                           2481 non-null   object \n",
            " 4   Dist Name                            2481 non-null   object \n",
            " 5   NITROGEN CONSUMPTION (tons)          2481 non-null   float64\n",
            " 6   NITROGEN SHARE IN NPK (Percent)      2481 non-null   float64\n",
            " 7   NITROGEN PER HA OF NCA (Kg per ha)   2481 non-null   float64\n",
            " 8   NITROGEN PER HA OF GCA (Kg per ha)   2481 non-null   float64\n",
            " 9   PHOSPHATE CONSUMPTION (tons)         2481 non-null   float64\n",
            " 10  PHOSPHATE SHARE IN NPK (Percent)     2481 non-null   float64\n",
            " 11  PHOSPHATE PER HA OF NCA (Kg per ha)  2481 non-null   float64\n",
            " 12  PHOSPHATE PER HA OF GCA (Kg per ha)  2481 non-null   float64\n",
            " 13  POTASH CONSUMPTION (tons)            2481 non-null   float64\n",
            " 14  POTASH SHARE IN NPK (Percent)        2481 non-null   float64\n",
            " 15  POTASH PER HA OF NCA (Kg per ha)     2481 non-null   float64\n",
            " 16  POTASH PER HA OF GCA (Kg per ha)     2481 non-null   float64\n",
            " 17  TOTAL CONSUMPTION (tons)             2481 non-null   float64\n",
            " 18  TOTAL PER HA OF NCA (Kg per ha)      2481 non-null   float64\n",
            " 19  TOTAL PER HA OF GCA (Kg per ha)      2481 non-null   float64\n",
            "dtypes: float64(15), int64(3), object(2)\n",
            "memory usage: 387.8+ KB\n"
          ]
        }
      ]
    },
    {
      "cell_type": "code",
      "source": [
        "colsf = ['Dist Code', 'Year', 'NITROGEN SHARE IN NPK (Percent)', 'PHOSPHATE SHARE IN NPK (Percent)', 'POTASH SHARE IN NPK (Percent)']\n",
        "fert = fert[colsf]"
      ],
      "metadata": {
        "id": "ykz5XdyoRXeY"
      },
      "execution_count": null,
      "outputs": []
    },
    {
      "cell_type": "code",
      "source": [
        "curr = pd.merge(crop, fert, how = 'left', on=['Dist Code','Year'])"
      ],
      "metadata": {
        "id": "1Tz2WmHbRcaU"
      },
      "execution_count": null,
      "outputs": []
    },
    {
      "cell_type": "code",
      "source": [
        "np.where(curr.isnull() == True)"
      ],
      "metadata": {
        "id": "Ettd-_ZpRgR_",
        "colab": {
          "base_uri": "https://localhost:8080/"
        },
        "outputId": "7be7f6a2-2f2e-4c10-b7d0-60fb0dc3e83b"
      },
      "execution_count": null,
      "outputs": [
        {
          "output_type": "execute_result",
          "data": {
            "text/plain": [
              "(array([752, 752, 752, 754, 754, 754, 755, 755, 755]),\n",
              " array([ 9, 10, 11,  9, 10, 11,  9, 10, 11]))"
            ]
          },
          "metadata": {},
          "execution_count": 11
        }
      ]
    },
    {
      "cell_type": "code",
      "source": [
        "curr.iloc[752] #useless rows, let's drop"
      ],
      "metadata": {
        "colab": {
          "base_uri": "https://localhost:8080/"
        },
        "id": "HHDUzbbiRh-l",
        "outputId": "37b0be28-58f4-4d41-8826-910ffd9c3084"
      },
      "execution_count": null,
      "outputs": [
        {
          "output_type": "execute_result",
          "data": {
            "text/plain": [
              "Dist Code                                    95\n",
              "Year                                       2010\n",
              "State Code                                    7\n",
              "State Name                          Maharashtra\n",
              "Dist Name                                Bombay\n",
              "RICE YIELD (Kg per ha)                      0.0\n",
              "WHEAT YIELD (Kg per ha)                     0.0\n",
              "SUGARCANE YIELD (Kg per ha)                 0.0\n",
              "MAIZE YIELD (Kg per ha)                     0.0\n",
              "NITROGEN SHARE IN NPK (Percent)             NaN\n",
              "PHOSPHATE SHARE IN NPK (Percent)            NaN\n",
              "POTASH SHARE IN NPK (Percent)               NaN\n",
              "Name: 752, dtype: object"
            ]
          },
          "metadata": {},
          "execution_count": 12
        }
      ]
    },
    {
      "cell_type": "code",
      "source": [
        "curr  = curr.dropna()"
      ],
      "metadata": {
        "id": "5DGUNQYrRkYv"
      },
      "execution_count": null,
      "outputs": []
    },
    {
      "cell_type": "code",
      "source": [
        "curr.info()"
      ],
      "metadata": {
        "colab": {
          "base_uri": "https://localhost:8080/"
        },
        "id": "1hjYF5fZRoOi",
        "outputId": "b2e63613-adb4-4956-b85f-15c8ac246fbf"
      },
      "execution_count": null,
      "outputs": [
        {
          "output_type": "stream",
          "name": "stdout",
          "text": [
            "<class 'pandas.core.frame.DataFrame'>\n",
            "Int64Index: 2481 entries, 0 to 2483\n",
            "Data columns (total 12 columns):\n",
            " #   Column                            Non-Null Count  Dtype  \n",
            "---  ------                            --------------  -----  \n",
            " 0   Dist Code                         2481 non-null   int64  \n",
            " 1   Year                              2481 non-null   int64  \n",
            " 2   State Code                        2481 non-null   int64  \n",
            " 3   State Name                        2481 non-null   object \n",
            " 4   Dist Name                         2481 non-null   object \n",
            " 5   RICE YIELD (Kg per ha)            2481 non-null   float64\n",
            " 6   WHEAT YIELD (Kg per ha)           2481 non-null   float64\n",
            " 7   SUGARCANE YIELD (Kg per ha)       2481 non-null   float64\n",
            " 8   MAIZE YIELD (Kg per ha)           2481 non-null   float64\n",
            " 9   NITROGEN SHARE IN NPK (Percent)   2481 non-null   float64\n",
            " 10  PHOSPHATE SHARE IN NPK (Percent)  2481 non-null   float64\n",
            " 11  POTASH SHARE IN NPK (Percent)     2481 non-null   float64\n",
            "dtypes: float64(7), int64(3), object(2)\n",
            "memory usage: 252.0+ KB\n"
          ]
        }
      ]
    },
    {
      "cell_type": "markdown",
      "source": [
        "### **Loading Crop Growing Period Data**"
      ],
      "metadata": {
        "id": "gxj180fwRaTo"
      }
    },
    {
      "cell_type": "code",
      "source": [
        "period = loadData('Crop_growing_period.csv')"
      ],
      "metadata": {
        "id": "cuCsOlBdRZ1M"
      },
      "execution_count": null,
      "outputs": []
    },
    {
      "cell_type": "code",
      "source": [
        "period = period[['Dist Code', 'LENGTH OF GROWING PERIOD DAYS (Number)']]"
      ],
      "metadata": {
        "id": "LbBaTOTXR2HH"
      },
      "execution_count": null,
      "outputs": []
    },
    {
      "cell_type": "code",
      "source": [
        "period.info()"
      ],
      "metadata": {
        "colab": {
          "base_uri": "https://localhost:8080/"
        },
        "id": "N6QzjbfER4A9",
        "outputId": "b8e5ffda-1bcb-487c-aefe-8f55607a7be3"
      },
      "execution_count": null,
      "outputs": [
        {
          "output_type": "stream",
          "name": "stdout",
          "text": [
            "<class 'pandas.core.frame.DataFrame'>\n",
            "RangeIndex: 313 entries, 0 to 312\n",
            "Data columns (total 2 columns):\n",
            " #   Column                                  Non-Null Count  Dtype\n",
            "---  ------                                  --------------  -----\n",
            " 0   Dist Code                               313 non-null    int64\n",
            " 1   LENGTH OF GROWING PERIOD DAYS (Number)  313 non-null    int64\n",
            "dtypes: int64(2)\n",
            "memory usage: 5.0 KB\n"
          ]
        }
      ]
    },
    {
      "cell_type": "code",
      "source": [
        "curr = pd.merge(curr, period, how = 'left', on=['Dist Code'])\n",
        "curr = curr.replace(-1, np.NaN)"
      ],
      "metadata": {
        "id": "sNx66UGWR6TU"
      },
      "execution_count": null,
      "outputs": []
    },
    {
      "cell_type": "code",
      "source": [
        "curr.info()"
      ],
      "metadata": {
        "colab": {
          "base_uri": "https://localhost:8080/"
        },
        "id": "BytgaGq7R974",
        "outputId": "a16876a0-9c0e-4df1-cd73-987117a86cbe"
      },
      "execution_count": null,
      "outputs": [
        {
          "output_type": "stream",
          "name": "stdout",
          "text": [
            "<class 'pandas.core.frame.DataFrame'>\n",
            "Int64Index: 2481 entries, 0 to 2480\n",
            "Data columns (total 13 columns):\n",
            " #   Column                                  Non-Null Count  Dtype  \n",
            "---  ------                                  --------------  -----  \n",
            " 0   Dist Code                               2481 non-null   int64  \n",
            " 1   Year                                    2481 non-null   int64  \n",
            " 2   State Code                              2481 non-null   int64  \n",
            " 3   State Name                              2481 non-null   object \n",
            " 4   Dist Name                               2481 non-null   object \n",
            " 5   RICE YIELD (Kg per ha)                  2481 non-null   float64\n",
            " 6   WHEAT YIELD (Kg per ha)                 2481 non-null   float64\n",
            " 7   SUGARCANE YIELD (Kg per ha)             2481 non-null   float64\n",
            " 8   MAIZE YIELD (Kg per ha)                 2481 non-null   float64\n",
            " 9   NITROGEN SHARE IN NPK (Percent)         2481 non-null   float64\n",
            " 10  PHOSPHATE SHARE IN NPK (Percent)        2481 non-null   float64\n",
            " 11  POTASH SHARE IN NPK (Percent)           2481 non-null   float64\n",
            " 12  LENGTH OF GROWING PERIOD DAYS (Number)  2241 non-null   float64\n",
            "dtypes: float64(8), int64(3), object(2)\n",
            "memory usage: 271.4+ KB\n"
          ]
        }
      ]
    },
    {
      "cell_type": "markdown",
      "source": [
        "### **Loading Crop Land Use Data**"
      ],
      "metadata": {
        "id": "BJcZqbWBR_Zw"
      }
    },
    {
      "cell_type": "code",
      "source": [
        "land = loadData('LandUse.csv')"
      ],
      "metadata": {
        "id": "PIsdCcITSACg"
      },
      "execution_count": null,
      "outputs": []
    },
    {
      "cell_type": "code",
      "source": [
        "land = land[['Dist Code','Year', 'TOTAL AREA (1000 ha)','GROSS CROPPED AREA (1000 ha)','CROPING INTENSITY (Percent)']]\n",
        "#land = land[['Dist Code','Year','TOTAL AREA (1000 ha)','NET CROPPED AREA (1000 ha)', 'GROSS CROPPED AREA (1000 ha)','CROPING INTENSITY (Percent)']]\n",
        "land = land.replace(-1,0) #looked at data, it should be 0"
      ],
      "metadata": {
        "id": "6SnF0aKlSIwC"
      },
      "execution_count": null,
      "outputs": []
    },
    {
      "cell_type": "code",
      "source": [
        "land.info()"
      ],
      "metadata": {
        "colab": {
          "base_uri": "https://localhost:8080/"
        },
        "id": "b3odW3-zSKC3",
        "outputId": "fdfd8332-13bd-42c6-d3a2-ca3992f07b69"
      },
      "execution_count": null,
      "outputs": [
        {
          "output_type": "stream",
          "name": "stdout",
          "text": [
            "<class 'pandas.core.frame.DataFrame'>\n",
            "RangeIndex: 2381 entries, 0 to 2380\n",
            "Data columns (total 5 columns):\n",
            " #   Column                        Non-Null Count  Dtype  \n",
            "---  ------                        --------------  -----  \n",
            " 0   Dist Code                     2381 non-null   int64  \n",
            " 1   Year                          2381 non-null   int64  \n",
            " 2   TOTAL AREA (1000 ha)          2381 non-null   float64\n",
            " 3   GROSS CROPPED AREA (1000 ha)  2381 non-null   float64\n",
            " 4   CROPING INTENSITY (Percent)   2381 non-null   float64\n",
            "dtypes: float64(3), int64(2)\n",
            "memory usage: 93.1 KB\n"
          ]
        }
      ]
    },
    {
      "cell_type": "code",
      "source": [
        "curr = pd.merge(curr, land, how = 'left', on=['Dist Code', 'Year'])"
      ],
      "metadata": {
        "id": "AckV91--SNkI"
      },
      "execution_count": null,
      "outputs": []
    },
    {
      "cell_type": "code",
      "source": [
        "curr.info()"
      ],
      "metadata": {
        "id": "KTJfEe_mSQI_",
        "colab": {
          "base_uri": "https://localhost:8080/"
        },
        "outputId": "c5304bc2-957e-43bd-959d-cc4c5a2f1884"
      },
      "execution_count": null,
      "outputs": [
        {
          "output_type": "stream",
          "name": "stdout",
          "text": [
            "<class 'pandas.core.frame.DataFrame'>\n",
            "Int64Index: 2481 entries, 0 to 2480\n",
            "Data columns (total 16 columns):\n",
            " #   Column                                  Non-Null Count  Dtype  \n",
            "---  ------                                  --------------  -----  \n",
            " 0   Dist Code                               2481 non-null   int64  \n",
            " 1   Year                                    2481 non-null   int64  \n",
            " 2   State Code                              2481 non-null   int64  \n",
            " 3   State Name                              2481 non-null   object \n",
            " 4   Dist Name                               2481 non-null   object \n",
            " 5   RICE YIELD (Kg per ha)                  2481 non-null   float64\n",
            " 6   WHEAT YIELD (Kg per ha)                 2481 non-null   float64\n",
            " 7   SUGARCANE YIELD (Kg per ha)             2481 non-null   float64\n",
            " 8   MAIZE YIELD (Kg per ha)                 2481 non-null   float64\n",
            " 9   NITROGEN SHARE IN NPK (Percent)         2481 non-null   float64\n",
            " 10  PHOSPHATE SHARE IN NPK (Percent)        2481 non-null   float64\n",
            " 11  POTASH SHARE IN NPK (Percent)           2481 non-null   float64\n",
            " 12  LENGTH OF GROWING PERIOD DAYS (Number)  2241 non-null   float64\n",
            " 13  TOTAL AREA (1000 ha)                    2366 non-null   float64\n",
            " 14  GROSS CROPPED AREA (1000 ha)            2366 non-null   float64\n",
            " 15  CROPING INTENSITY (Percent)             2366 non-null   float64\n",
            "dtypes: float64(11), int64(3), object(2)\n",
            "memory usage: 329.5+ KB\n"
          ]
        }
      ]
    },
    {
      "cell_type": "code",
      "source": [
        "#just missing some years (2017), so let's average\n",
        "land_list = ['TOTAL AREA (1000 ha)', 'GROSS CROPPED AREA (1000 ha)','CROPING INTENSITY (Percent)']\n",
        "# list = ['TOTAL AREA (1000 ha)','NET CROPPED AREA (1000 ha)', 'GROSS CROPPED AREA (1000 ha)','CROPING INTENSITY (Percent)']\n",
        "for x in land_list:\n",
        "    curr[x] = curr.groupby(\"Dist Code\")[x].transform(\n",
        "        lambda x: x.fillna(x.mean()))"
      ],
      "metadata": {
        "id": "yVxPS9utSX-P"
      },
      "execution_count": null,
      "outputs": []
    },
    {
      "cell_type": "code",
      "source": [
        "curr.info()"
      ],
      "metadata": {
        "id": "OFO-fU-9SZiQ",
        "colab": {
          "base_uri": "https://localhost:8080/"
        },
        "outputId": "24cad5a6-3c4c-4940-a44b-9c6cc74ede2d"
      },
      "execution_count": null,
      "outputs": [
        {
          "output_type": "stream",
          "name": "stdout",
          "text": [
            "<class 'pandas.core.frame.DataFrame'>\n",
            "Int64Index: 2481 entries, 0 to 2480\n",
            "Data columns (total 16 columns):\n",
            " #   Column                                  Non-Null Count  Dtype  \n",
            "---  ------                                  --------------  -----  \n",
            " 0   Dist Code                               2481 non-null   int64  \n",
            " 1   Year                                    2481 non-null   int64  \n",
            " 2   State Code                              2481 non-null   int64  \n",
            " 3   State Name                              2481 non-null   object \n",
            " 4   Dist Name                               2481 non-null   object \n",
            " 5   RICE YIELD (Kg per ha)                  2481 non-null   float64\n",
            " 6   WHEAT YIELD (Kg per ha)                 2481 non-null   float64\n",
            " 7   SUGARCANE YIELD (Kg per ha)             2481 non-null   float64\n",
            " 8   MAIZE YIELD (Kg per ha)                 2481 non-null   float64\n",
            " 9   NITROGEN SHARE IN NPK (Percent)         2481 non-null   float64\n",
            " 10  PHOSPHATE SHARE IN NPK (Percent)        2481 non-null   float64\n",
            " 11  POTASH SHARE IN NPK (Percent)           2481 non-null   float64\n",
            " 12  LENGTH OF GROWING PERIOD DAYS (Number)  2241 non-null   float64\n",
            " 13  TOTAL AREA (1000 ha)                    2481 non-null   float64\n",
            " 14  GROSS CROPPED AREA (1000 ha)            2481 non-null   float64\n",
            " 15  CROPING INTENSITY (Percent)             2481 non-null   float64\n",
            "dtypes: float64(11), int64(3), object(2)\n",
            "memory usage: 329.5+ KB\n"
          ]
        }
      ]
    },
    {
      "cell_type": "markdown",
      "source": [
        "### **Loading Annual Rainfall Data**"
      ],
      "metadata": {
        "id": "gnJWURMKSiMR"
      }
    },
    {
      "cell_type": "code",
      "source": [
        "rain = loadData('Monthly_Rainfall.csv')"
      ],
      "metadata": {
        "id": "SuFbL3uASrdn"
      },
      "execution_count": null,
      "outputs": []
    },
    {
      "cell_type": "code",
      "source": [
        "rain.info()"
      ],
      "metadata": {
        "colab": {
          "base_uri": "https://localhost:8080/"
        },
        "id": "c_F7oYUnS5x-",
        "outputId": "ee83f09a-c43c-4551-e0a2-33a343e13392"
      },
      "execution_count": null,
      "outputs": [
        {
          "output_type": "stream",
          "name": "stdout",
          "text": [
            "<class 'pandas.core.frame.DataFrame'>\n",
            "RangeIndex: 1703 entries, 0 to 1702\n",
            "Data columns (total 18 columns):\n",
            " #   Column                            Non-Null Count  Dtype  \n",
            "---  ------                            --------------  -----  \n",
            " 0   Dist Code                         1703 non-null   int64  \n",
            " 1   Year                              1703 non-null   int64  \n",
            " 2   State Code                        1703 non-null   int64  \n",
            " 3   State Name                        1703 non-null   object \n",
            " 4   Dist Name                         1703 non-null   object \n",
            " 5   JANUARY RAINFALL (Millimeters)    1703 non-null   float64\n",
            " 6   FEBRUARY RAINFALL (Millimeters)   1703 non-null   float64\n",
            " 7   MARCH RAINFALL (Millimeters)      1703 non-null   float64\n",
            " 8   APRIL RAINFALL (Millimeters)      1703 non-null   float64\n",
            " 9   MAY RAINFALL (Millimeters)        1703 non-null   float64\n",
            " 10  JUNE RAINFALL (Millimeters)       1703 non-null   float64\n",
            " 11  JULY RAINFALL (Millimeters)       1703 non-null   float64\n",
            " 12  AUGUST RAINFALL (Millimeters)     1703 non-null   float64\n",
            " 13  SEPTEMBER RAINFALL (Millimeters)  1703 non-null   float64\n",
            " 14  OCTOBER RAINFALL (Millimeters)    1703 non-null   float64\n",
            " 15  NOVEMBER RAINFALL (Millimeters)   1703 non-null   float64\n",
            " 16  DECEMBER RAINFALL (Millimeters)   1703 non-null   float64\n",
            " 17  ANNUAL RAINFALL (Millimeters)     1703 non-null   float64\n",
            "dtypes: float64(13), int64(3), object(2)\n",
            "memory usage: 239.6+ KB\n"
          ]
        }
      ]
    },
    {
      "cell_type": "code",
      "source": [
        "rain = rain[['Dist Code', 'Year', 'ANNUAL RAINFALL (Millimeters)']]"
      ],
      "metadata": {
        "id": "gPmN81ZsS6_l"
      },
      "execution_count": null,
      "outputs": []
    },
    {
      "cell_type": "markdown",
      "source": [
        "# **Final Merged Data**\n",
        "\n",
        "---\n",
        "\n"
      ],
      "metadata": {
        "id": "lvsUCnZFZ3Xi"
      }
    },
    {
      "cell_type": "code",
      "source": [
        "curr1 = pd.merge(curr, rain, how = 'left', on=['Dist Code', 'Year'])"
      ],
      "metadata": {
        "id": "uJmKO_r8S9f-"
      },
      "execution_count": null,
      "outputs": []
    },
    {
      "cell_type": "code",
      "source": [
        "#missing 2016 and 2017 years so let's average\n",
        "curr1['ANNUAL RAINFALL (Millimeters)'] = curr1.groupby(\"Dist Code\")['ANNUAL RAINFALL (Millimeters)'].transform(\n",
        "    lambda x: x.fillna(x.mean()))"
      ],
      "metadata": {
        "id": "avNz0d1kZGyD"
      },
      "execution_count": null,
      "outputs": []
    },
    {
      "cell_type": "code",
      "source": [
        "curr1.info()"
      ],
      "metadata": {
        "id": "KzDvFv_ZS-v6",
        "colab": {
          "base_uri": "https://localhost:8080/"
        },
        "outputId": "fd09862a-481a-4966-bdce-810bfad8c9ae"
      },
      "execution_count": null,
      "outputs": [
        {
          "output_type": "stream",
          "name": "stdout",
          "text": [
            "<class 'pandas.core.frame.DataFrame'>\n",
            "Int64Index: 2481 entries, 0 to 2480\n",
            "Data columns (total 17 columns):\n",
            " #   Column                                  Non-Null Count  Dtype  \n",
            "---  ------                                  --------------  -----  \n",
            " 0   Dist Code                               2481 non-null   int64  \n",
            " 1   Year                                    2481 non-null   int64  \n",
            " 2   State Code                              2481 non-null   int64  \n",
            " 3   State Name                              2481 non-null   object \n",
            " 4   Dist Name                               2481 non-null   object \n",
            " 5   RICE YIELD (Kg per ha)                  2481 non-null   float64\n",
            " 6   WHEAT YIELD (Kg per ha)                 2481 non-null   float64\n",
            " 7   SUGARCANE YIELD (Kg per ha)             2481 non-null   float64\n",
            " 8   MAIZE YIELD (Kg per ha)                 2481 non-null   float64\n",
            " 9   NITROGEN SHARE IN NPK (Percent)         2481 non-null   float64\n",
            " 10  PHOSPHATE SHARE IN NPK (Percent)        2481 non-null   float64\n",
            " 11  POTASH SHARE IN NPK (Percent)           2481 non-null   float64\n",
            " 12  LENGTH OF GROWING PERIOD DAYS (Number)  2241 non-null   float64\n",
            " 13  TOTAL AREA (1000 ha)                    2481 non-null   float64\n",
            " 14  GROSS CROPPED AREA (1000 ha)            2481 non-null   float64\n",
            " 15  CROPING INTENSITY (Percent)             2481 non-null   float64\n",
            " 16  ANNUAL RAINFALL (Millimeters)           2480 non-null   float64\n",
            "dtypes: float64(12), int64(3), object(2)\n",
            "memory usage: 348.9+ KB\n"
          ]
        }
      ]
    },
    {
      "cell_type": "code",
      "source": [
        "merge_data = curr1.dropna()"
      ],
      "metadata": {
        "id": "MSXknFo4TNk6"
      },
      "execution_count": null,
      "outputs": []
    },
    {
      "cell_type": "code",
      "source": [
        "merge_data = merge_data.drop(['Dist Name', 'State Name'], axis=\"columns\")"
      ],
      "metadata": {
        "id": "IByFzdwkm9kG"
      },
      "execution_count": null,
      "outputs": []
    },
    {
      "cell_type": "code",
      "source": [
        "# General Dataset Overview\n",
        "merge_data.info()"
      ],
      "metadata": {
        "colab": {
          "base_uri": "https://localhost:8080/"
        },
        "id": "h3j0ZzMSTP2v",
        "outputId": "01051798-00e9-472a-9085-8bf9bb062c66"
      },
      "execution_count": null,
      "outputs": [
        {
          "output_type": "stream",
          "name": "stdout",
          "text": [
            "<class 'pandas.core.frame.DataFrame'>\n",
            "Int64Index: 2240 entries, 0 to 2480\n",
            "Data columns (total 15 columns):\n",
            " #   Column                                  Non-Null Count  Dtype  \n",
            "---  ------                                  --------------  -----  \n",
            " 0   Dist Code                               2240 non-null   int64  \n",
            " 1   Year                                    2240 non-null   int64  \n",
            " 2   State Code                              2240 non-null   int64  \n",
            " 3   RICE YIELD (Kg per ha)                  2240 non-null   float64\n",
            " 4   WHEAT YIELD (Kg per ha)                 2240 non-null   float64\n",
            " 5   SUGARCANE YIELD (Kg per ha)             2240 non-null   float64\n",
            " 6   MAIZE YIELD (Kg per ha)                 2240 non-null   float64\n",
            " 7   NITROGEN SHARE IN NPK (Percent)         2240 non-null   float64\n",
            " 8   PHOSPHATE SHARE IN NPK (Percent)        2240 non-null   float64\n",
            " 9   POTASH SHARE IN NPK (Percent)           2240 non-null   float64\n",
            " 10  LENGTH OF GROWING PERIOD DAYS (Number)  2240 non-null   float64\n",
            " 11  TOTAL AREA (1000 ha)                    2240 non-null   float64\n",
            " 12  GROSS CROPPED AREA (1000 ha)            2240 non-null   float64\n",
            " 13  CROPING INTENSITY (Percent)             2240 non-null   float64\n",
            " 14  ANNUAL RAINFALL (Millimeters)           2240 non-null   float64\n",
            "dtypes: float64(12), int64(3)\n",
            "memory usage: 280.0 KB\n"
          ]
        }
      ]
    },
    {
      "cell_type": "code",
      "source": [
        "plt.figure(figsize=(20, 10))\n",
        "ax = plt.subplot()\n",
        "\n",
        "sns.heatmap(merge_data.corr(),annot=True, ax=ax)"
      ],
      "metadata": {
        "id": "12jct5GMCCaD",
        "colab": {
          "base_uri": "https://localhost:8080/"
        },
        "outputId": "e308f136-b925-4195-8a13-1ca4e06b7727"
      },
      "execution_count": null,
      "outputs": [
        {
          "output_type": "execute_result",
          "data": {
            "text/plain": [
              "<matplotlib.axes._subplots.AxesSubplot at 0x7f45e8589430>"
            ]
          },
          "metadata": {},
          "execution_count": 36
        },
        {
          "output_type": "display_data",
          "data": {
            "text/plain": [
              "<Figure size 1440x720 with 2 Axes>"
            ],
            "image/png": "[encoded data removed]"
          },
          "metadata": {
            "needs_background": "light"
          }
        }
      ]
    },
    {
      "cell_type": "code",
      "source": [
        "merge_data = merge_data.drop(columns=['SUGARCANE YIELD (Kg per ha)','MAIZE YIELD (Kg per ha)'])\n",
        "\n",
        "id = ['Dist Code', 'NITROGEN SHARE IN NPK (Percent)', 'PHOSPHATE SHARE IN NPK (Percent)',\n",
        "'POTASH SHARE IN NPK (Percent)','LENGTH OF GROWING PERIOD DAYS (Number)','TOTAL AREA (1000 ha)',\n",
        "'GROSS CROPPED AREA (1000 ha)','CROPING INTENSITY (Percent)','ANNUAL RAINFALL (Millimeters)']\n",
        "\n",
        "merge_data = pd.melt(merge_data, id_vars=id, value_vars=['RICE YIELD (Kg per ha)', 'WHEAT YIELD (Kg per ha)'])"
      ],
      "metadata": {
        "id": "OT_voIDvGsyF"
      },
      "execution_count": null,
      "outputs": []
    },
    {
      "cell_type": "code",
      "source": [
        "merge_data = merge_data.drop('Dist Code', axis=\"columns\")"
      ],
      "metadata": {
        "id": "E4sKwAfwz5R4"
      },
      "execution_count": null,
      "outputs": []
    },
    {
      "cell_type": "code",
      "source": [
        "merge_data.rename(columns = {'variable':'crop_name', 'value':'crop_yield'}, inplace = True)"
      ],
      "metadata": {
        "id": "EWzM61h_0OwA"
      },
      "execution_count": null,
      "outputs": []
    },
    {
      "cell_type": "code",
      "source": [
        "merge_data.info()"
      ],
      "metadata": {
        "colab": {
          "base_uri": "https://localhost:8080/"
        },
        "id": "2SO3q9pBoCiu",
        "outputId": "97052528-473e-4749-d31d-369bc8b7f936"
      },
      "execution_count": null,
      "outputs": [
        {
          "output_type": "stream",
          "name": "stdout",
          "text": [
            "<class 'pandas.core.frame.DataFrame'>\n",
            "RangeIndex: 4480 entries, 0 to 4479\n",
            "Data columns (total 10 columns):\n",
            " #   Column                                  Non-Null Count  Dtype  \n",
            "---  ------                                  --------------  -----  \n",
            " 0   NITROGEN SHARE IN NPK (Percent)         4480 non-null   float64\n",
            " 1   PHOSPHATE SHARE IN NPK (Percent)        4480 non-null   float64\n",
            " 2   POTASH SHARE IN NPK (Percent)           4480 non-null   float64\n",
            " 3   LENGTH OF GROWING PERIOD DAYS (Number)  4480 non-null   float64\n",
            " 4   TOTAL AREA (1000 ha)                    4480 non-null   float64\n",
            " 5   GROSS CROPPED AREA (1000 ha)            4480 non-null   float64\n",
            " 6   CROPING INTENSITY (Percent)             4480 non-null   float64\n",
            " 7   ANNUAL RAINFALL (Millimeters)           4480 non-null   float64\n",
            " 8   crop_name                               4480 non-null   object \n",
            " 9   crop_yield                              4480 non-null   float64\n",
            "dtypes: float64(9), object(1)\n",
            "memory usage: 350.1+ KB\n"
          ]
        }
      ]
    },
    {
      "cell_type": "code",
      "source": [
        "merge_data.head()"
      ],
      "metadata": {
        "colab": {
          "base_uri": "https://localhost:8080/"
        },
        "id": "42bprKRBT20O",
        "outputId": "cabc2ca1-3d1e-4212-abe3-b81050eaeb53"
      },
      "execution_count": null,
      "outputs": [
        {
          "output_type": "execute_result",
          "data": {
            "text/plain": [
              "   NITROGEN SHARE IN NPK (Percent)  PHOSPHATE SHARE IN NPK (Percent)  \\\n",
              "0                            54.47                             31.79   \n",
              "1                            53.56                             33.69   \n",
              "2                            58.43                             31.47   \n",
              "3                            58.05                             30.36   \n",
              "4                            56.70                             33.33   \n",
              "\n",
              "   POTASH SHARE IN NPK (Percent)  LENGTH OF GROWING PERIOD DAYS (Number)  \\\n",
              "0                          13.75                                   164.0   \n",
              "1                          12.75                                   164.0   \n",
              "2                          10.11                                   164.0   \n",
              "3                          11.59                                   164.0   \n",
              "4                           9.97                                   164.0   \n",
              "\n",
              "   TOTAL AREA (1000 ha)  GROSS CROPPED AREA (1000 ha)  \\\n",
              "0               1988.17                       1405.63   \n",
              "1               1988.17                       1409.94   \n",
              "2               1988.17                       1415.98   \n",
              "3               1639.34                       1431.30   \n",
              "4               1640.28                       1438.76   \n",
              "\n",
              "   CROPING INTENSITY (Percent)  ANNUAL RAINFALL (Millimeters)  \\\n",
              "0                       136.65                         1149.7   \n",
              "1                       136.83                         1282.3   \n",
              "2                       137.60                         1092.1   \n",
              "3                       138.89                         1568.0   \n",
              "4                       140.21                         1379.7   \n",
              "\n",
              "                crop_name  crop_yield  \n",
              "0  RICE YIELD (Kg per ha)     1695.77  \n",
              "1  RICE YIELD (Kg per ha)     1756.23  \n",
              "2  RICE YIELD (Kg per ha)     1900.97  \n",
              "3  RICE YIELD (Kg per ha)     1581.86  \n",
              "4  RICE YIELD (Kg per ha)     1729.89  "
            ],
            "text/html": [
              "\n",
              "  <div id=\"df-60bbc6b2-14b5-42cb-8769-e061f357acdc\">\n",
              "    <div class=\"colab-df-container\">\n",
              "      <div>\n",
              "<style scoped>\n",
              "    .dataframe tbody tr th:only-of-type {\n",
              "        vertical-align: middle;\n",
              "    }\n",
              "\n",
              "    .dataframe tbody tr th {\n",
              "        vertical-align: top;\n",
              "    }\n",
              "\n",
              "    .dataframe thead th {\n",
              "        text-align: right;\n",
              "    }\n",
              "</style>\n",
              "<table border=\"1\" class=\"dataframe\">\n",
              "  <thead>\n",
              "    <tr style=\"text-align: right;\">\n",
              "      <th></th>\n",
              "      <th>NITROGEN SHARE IN NPK (Percent)</th>\n",
              "      <th>PHOSPHATE SHARE IN NPK (Percent)</th>\n",
              "      <th>POTASH SHARE IN NPK (Percent)</th>\n",
              "      <th>LENGTH OF GROWING PERIOD DAYS (Number)</th>\n",
              "      <th>TOTAL AREA (1000 ha)</th>\n",
              "      <th>GROSS CROPPED AREA (1000 ha)</th>\n",
              "      <th>CROPING INTENSITY (Percent)</th>\n",
              "      <th>ANNUAL RAINFALL (Millimeters)</th>\n",
              "      <th>crop_name</th>\n",
              "      <th>crop_yield</th>\n",
              "    </tr>\n",
              "  </thead>\n",
              "  <tbody>\n",
              "    <tr>\n",
              "      <th>0</th>\n",
              "      <td>54.47</td>\n",
              "      <td>31.79</td>\n",
              "      <td>13.75</td>\n",
              "      <td>164.0</td>\n",
              "      <td>1988.17</td>\n",
              "      <td>1405.63</td>\n",
              "      <td>136.65</td>\n",
              "      <td>1149.7</td>\n",
              "      <td>RICE YIELD (Kg per ha)</td>\n",
              "      <td>1695.77</td>\n",
              "    </tr>\n",
              "    <tr>\n",
              "      <th>1</th>\n",
              "      <td>53.56</td>\n",
              "      <td>33.69</td>\n",
              "      <td>12.75</td>\n",
              "      <td>164.0</td>\n",
              "      <td>1988.17</td>\n",
              "      <td>1409.94</td>\n",
              "      <td>136.83</td>\n",
              "      <td>1282.3</td>\n",
              "      <td>RICE YIELD (Kg per ha)</td>\n",
              "      <td>1756.23</td>\n",
              "    </tr>\n",
              "    <tr>\n",
              "      <th>2</th>\n",
              "      <td>58.43</td>\n",
              "      <td>31.47</td>\n",
              "      <td>10.11</td>\n",
              "      <td>164.0</td>\n",
              "      <td>1988.17</td>\n",
              "      <td>1415.98</td>\n",
              "      <td>137.60</td>\n",
              "      <td>1092.1</td>\n",
              "      <td>RICE YIELD (Kg per ha)</td>\n",
              "      <td>1900.97</td>\n",
              "    </tr>\n",
              "    <tr>\n",
              "      <th>3</th>\n",
              "      <td>58.05</td>\n",
              "      <td>30.36</td>\n",
              "      <td>11.59</td>\n",
              "      <td>164.0</td>\n",
              "      <td>1639.34</td>\n",
              "      <td>1431.30</td>\n",
              "      <td>138.89</td>\n",
              "      <td>1568.0</td>\n",
              "      <td>RICE YIELD (Kg per ha)</td>\n",
              "      <td>1581.86</td>\n",
              "    </tr>\n",
              "    <tr>\n",
              "      <th>4</th>\n",
              "      <td>56.70</td>\n",
              "      <td>33.33</td>\n",
              "      <td>9.97</td>\n",
              "      <td>164.0</td>\n",
              "      <td>1640.28</td>\n",
              "      <td>1438.76</td>\n",
              "      <td>140.21</td>\n",
              "      <td>1379.7</td>\n",
              "      <td>RICE YIELD (Kg per ha)</td>\n",
              "      <td>1729.89</td>\n",
              "    </tr>\n",
              "  </tbody>\n",
              "</table>\n",
              "</div>\n",
              "      <button class=\"colab-df-convert\" onclick=\"convertToInteractive('df-60bbc6b2-14b5-42cb-8769-e061f357acdc')\"\n",
              "              title=\"Convert this dataframe to an interactive table.\"\n",
              "              style=\"display:none;\">\n",
              "        \n",
              "  <svg xmlns=\"http://www.w3.org/2000/svg\" height=\"24px\"viewBox=\"0 0 24 24\"\n",
              "       width=\"24px\">\n",
              "    <path d=\"M0 0h24v24H0V0z\" fill=\"none\"/>\n",
              "    <path d=\"M18.56 5.44l.94 2.06.94-2.06 2.06-.94-2.06-.94-.94-2.06-.94 2.06-2.06.94zm-11 1L8.5 8.5l.94-2.06 2.06-.94-2.06-.94L8.5 2.5l-.94 2.06-2.06.94zm10 10l.94 2.06.94-2.06 2.06-.94-2.06-.94-.94-2.06-.94 2.06-2.06.94z\"/><path d=\"M17.41 7.96l-1.37-1.37c-.4-.4-.92-.59-1.43-.59-.52 0-1.04.2-1.43.59L10.3 9.45l-7.72 7.72c-.78.78-.78 2.05 0 2.83L4 21.41c.39.39.9.59 1.41.59.51 0 1.02-.2 1.41-.59l7.78-7.78 2.81-2.81c.8-.78.8-2.07 0-2.86zM5.41 20L4 18.59l7.72-7.72 1.47 1.35L5.41 20z\"/>\n",
              "  </svg>\n",
              "      </button>\n",
              "      \n",
              "  <style>\n",
              "    .colab-df-container {\n",
              "      display:flex;\n",
              "      flex-wrap:wrap;\n",
              "      gap: 12px;\n",
              "    }\n",
              "\n",
              "    .colab-df-convert {\n",
              "      background-color: #E8F0FE;\n",
              "      border: none;\n",
              "      border-radius: 50%;\n",
              "      cursor: pointer;\n",
              "      display: none;\n",
              "      fill: #1967D2;\n",
              "      height: 32px;\n",
              "      padding: 0 0 0 0;\n",
              "      width: 32px;\n",
              "    }\n",
              "\n",
              "    .colab-df-convert:hover {\n",
              "      background-color: #E2EBFA;\n",
              "      box-shadow: 0px 1px 2px rgba(60, 64, 67, 0.3), 0px 1px 3px 1px rgba(60, 64, 67, 0.15);\n",
              "      fill: #174EA6;\n",
              "    }\n",
              "\n",
              "    [theme=dark] .colab-df-convert {\n",
              "      background-color: #3B4455;\n",
              "      fill: #D2E3FC;\n",
              "    }\n",
              "\n",
              "    [theme=dark] .colab-df-convert:hover {\n",
              "      background-color: #434B5C;\n",
              "      box-shadow: 0px 1px 3px 1px rgba(0, 0, 0, 0.15);\n",
              "      filter: drop-shadow(0px 1px 2px rgba(0, 0, 0, 0.3));\n",
              "      fill: #FFFFFF;\n",
              "    }\n",
              "  </style>\n",
              "\n",
              "      <script>\n",
              "        const buttonEl =\n",
              "          document.querySelector('#df-60bbc6b2-14b5-42cb-8769-e061f357acdc button.colab-df-convert');\n",
              "        buttonEl.style.display =\n",
              "          google.colab.kernel.accessAllowed ? 'block' : 'none';\n",
              "\n",
              "        async function convertToInteractive(key) {\n",
              "          const element = document.querySelector('#df-60bbc6b2-14b5-42cb-8769-e061f357acdc');\n",
              "          const dataTable =\n",
              "            await google.colab.kernel.invokeFunction('convertToInteractive',\n",
              "                                                     [key], {});\n",
              "          if (!dataTable) return;\n",
              "\n",
              "          const docLinkHtml = 'Like what you see? Visit the ' +\n",
              "            '<a target=\"_blank\" href=https://colab.research.google.com/notebooks/data_table.ipynb>data table notebook</a>'\n",
              "            + ' to learn more about interactive tables.';\n",
              "          element.innerHTML = '';\n",
              "          dataTable['output_type'] = 'display_data';\n",
              "          await google.colab.output.renderOutput(dataTable, element);\n",
              "          const docLink = document.createElement('div');\n",
              "          docLink.innerHTML = docLinkHtml;\n",
              "          element.appendChild(docLink);\n",
              "        }\n",
              "      </script>\n",
              "    </div>\n",
              "  </div>\n",
              "  "
            ]
          },
          "metadata": {},
          "execution_count": 41
        }
      ]
    },
    {
      "cell_type": "code",
      "source": [
        "# Numerical Feature Statistics\n",
        "merge_data.describe()"
      ],
      "metadata": {
        "colab": {
          "base_uri": "https://localhost:8080/"
        },
        "id": "VAksLbcKUNgB",
        "outputId": "acbb1501-2a85-4989-b4f3-1be01c774d29"
      },
      "execution_count": null,
      "outputs": [
        {
          "output_type": "execute_result",
          "data": {
            "text/plain": [
              "       NITROGEN SHARE IN NPK (Percent)  PHOSPHATE SHARE IN NPK (Percent)  \\\n",
              "count                      4480.000000                       4480.000000   \n",
              "mean                         64.692866                         26.706527   \n",
              "std                          10.746904                          7.581212   \n",
              "min                           0.000000                          0.000000   \n",
              "25%                          56.750000                         21.612500   \n",
              "50%                          65.345000                         26.040000   \n",
              "75%                          72.952500                         30.912500   \n",
              "max                          94.700000                         54.060000   \n",
              "\n",
              "       POTASH SHARE IN NPK (Percent)  LENGTH OF GROWING PERIOD DAYS (Number)  \\\n",
              "count                    4480.000000                             4480.000000   \n",
              "mean                        8.467192                              190.789286   \n",
              "std                         7.407513                               49.241755   \n",
              "min                         0.000000                               28.000000   \n",
              "25%                         2.650000                              170.750000   \n",
              "50%                         5.690000                              194.000000   \n",
              "75%                        12.902500                              220.000000   \n",
              "max                        45.180000                              307.000000   \n",
              "\n",
              "       TOTAL AREA (1000 ha)  GROSS CROPPED AREA (1000 ha)  \\\n",
              "count           4480.000000                   4480.000000   \n",
              "mean             949.376986                    679.033364   \n",
              "std              586.393170                    376.231012   \n",
              "min                0.000000                      0.000000   \n",
              "25%              540.850000                    442.929286   \n",
              "50%              833.600000                    628.135000   \n",
              "75%             1182.955000                    848.327500   \n",
              "max             4565.200000                   2654.090000   \n",
              "\n",
              "       CROPING INTENSITY (Percent)  ANNUAL RAINFALL (Millimeters)   crop_yield  \n",
              "count                  4480.000000                    4480.000000  4480.000000  \n",
              "mean                    146.006903                     983.407857  2176.839324  \n",
              "std                      29.359726                     567.170432  1255.270684  \n",
              "min                       0.000000                      -1.000000     0.000000  \n",
              "25%                     123.937500                     620.775000  1351.252500  \n",
              "50%                     145.350000                     872.850000  2239.595000  \n",
              "75%                     165.622500                    1203.275000  3017.725000  \n",
              "max                     258.540000                    4471.000000  5653.830000  "
            ],
            "text/html": [
              "\n",
              "  <div id=\"df-58ee7986-16e0-4e51-be1f-11a318c51e3d\">\n",
              "    <div class=\"colab-df-container\">\n",
              "      <div>\n",
              "<style scoped>\n",
              "    .dataframe tbody tr th:only-of-type {\n",
              "        vertical-align: middle;\n",
              "    }\n",
              "\n",
              "    .dataframe tbody tr th {\n",
              "        vertical-align: top;\n",
              "    }\n",
              "\n",
              "    .dataframe thead th {\n",
              "        text-align: right;\n",
              "    }\n",
              "</style>\n",
              "<table border=\"1\" class=\"dataframe\">\n",
              "  <thead>\n",
              "    <tr style=\"text-align: right;\">\n",
              "      <th></th>\n",
              "      <th>NITROGEN SHARE IN NPK (Percent)</th>\n",
              "      <th>PHOSPHATE SHARE IN NPK (Percent)</th>\n",
              "      <th>POTASH SHARE IN NPK (Percent)</th>\n",
              "      <th>LENGTH OF GROWING PERIOD DAYS (Number)</th>\n",
              "      <th>TOTAL AREA (1000 ha)</th>\n",
              "      <th>GROSS CROPPED AREA (1000 ha)</th>\n",
              "      <th>CROPING INTENSITY (Percent)</th>\n",
              "      <th>ANNUAL RAINFALL (Millimeters)</th>\n",
              "      <th>crop_yield</th>\n",
              "    </tr>\n",
              "  </thead>\n",
              "  <tbody>\n",
              "    <tr>\n",
              "      <th>count</th>\n",
              "      <td>4480.000000</td>\n",
              "      <td>4480.000000</td>\n",
              "      <td>4480.000000</td>\n",
              "      <td>4480.000000</td>\n",
              "      <td>4480.000000</td>\n",
              "      <td>4480.000000</td>\n",
              "      <td>4480.000000</td>\n",
              "      <td>4480.000000</td>\n",
              "      <td>4480.000000</td>\n",
              "    </tr>\n",
              "    <tr>\n",
              "      <th>mean</th>\n",
              "      <td>64.692866</td>\n",
              "      <td>26.706527</td>\n",
              "      <td>8.467192</td>\n",
              "      <td>190.789286</td>\n",
              "      <td>949.376986</td>\n",
              "      <td>679.033364</td>\n",
              "      <td>146.006903</td>\n",
              "      <td>983.407857</td>\n",
              "      <td>2176.839324</td>\n",
              "    </tr>\n",
              "    <tr>\n",
              "      <th>std</th>\n",
              "      <td>10.746904</td>\n",
              "      <td>7.581212</td>\n",
              "      <td>7.407513</td>\n",
              "      <td>49.241755</td>\n",
              "      <td>586.393170</td>\n",
              "      <td>376.231012</td>\n",
              "      <td>29.359726</td>\n",
              "      <td>567.170432</td>\n",
              "      <td>1255.270684</td>\n",
              "    </tr>\n",
              "    <tr>\n",
              "      <th>min</th>\n",
              "      <td>0.000000</td>\n",
              "      <td>0.000000</td>\n",
              "      <td>0.000000</td>\n",
              "      <td>28.000000</td>\n",
              "      <td>0.000000</td>\n",
              "      <td>0.000000</td>\n",
              "      <td>0.000000</td>\n",
              "      <td>-1.000000</td>\n",
              "      <td>0.000000</td>\n",
              "    </tr>\n",
              "    <tr>\n",
              "      <th>25%</th>\n",
              "      <td>56.750000</td>\n",
              "      <td>21.612500</td>\n",
              "      <td>2.650000</td>\n",
              "      <td>170.750000</td>\n",
              "      <td>540.850000</td>\n",
              "      <td>442.929286</td>\n",
              "      <td>123.937500</td>\n",
              "      <td>620.775000</td>\n",
              "      <td>1351.252500</td>\n",
              "    </tr>\n",
              "    <tr>\n",
              "      <th>50%</th>\n",
              "      <td>65.345000</td>\n",
              "      <td>26.040000</td>\n",
              "      <td>5.690000</td>\n",
              "      <td>194.000000</td>\n",
              "      <td>833.600000</td>\n",
              "      <td>628.135000</td>\n",
              "      <td>145.350000</td>\n",
              "      <td>872.850000</td>\n",
              "      <td>2239.595000</td>\n",
              "    </tr>\n",
              "    <tr>\n",
              "      <th>75%</th>\n",
              "      <td>72.952500</td>\n",
              "      <td>30.912500</td>\n",
              "      <td>12.902500</td>\n",
              "      <td>220.000000</td>\n",
              "      <td>1182.955000</td>\n",
              "      <td>848.327500</td>\n",
              "      <td>165.622500</td>\n",
              "      <td>1203.275000</td>\n",
              "      <td>3017.725000</td>\n",
              "    </tr>\n",
              "    <tr>\n",
              "      <th>max</th>\n",
              "      <td>94.700000</td>\n",
              "      <td>54.060000</td>\n",
              "      <td>45.180000</td>\n",
              "      <td>307.000000</td>\n",
              "      <td>4565.200000</td>\n",
              "      <td>2654.090000</td>\n",
              "      <td>258.540000</td>\n",
              "      <td>4471.000000</td>\n",
              "      <td>5653.830000</td>\n",
              "    </tr>\n",
              "  </tbody>\n",
              "</table>\n",
              "</div>\n",
              "      <button class=\"colab-df-convert\" onclick=\"convertToInteractive('df-58ee7986-16e0-4e51-be1f-11a318c51e3d')\"\n",
              "              title=\"Convert this dataframe to an interactive table.\"\n",
              "              style=\"display:none;\">\n",
              "        \n",
              "  <svg xmlns=\"http://www.w3.org/2000/svg\" height=\"24px\"viewBox=\"0 0 24 24\"\n",
              "       width=\"24px\">\n",
              "    <path d=\"M0 0h24v24H0V0z\" fill=\"none\"/>\n",
              "    <path d=\"M18.56 5.44l.94 2.06.94-2.06 2.06-.94-2.06-.94-.94-2.06-.94 2.06-2.06.94zm-11 1L8.5 8.5l.94-2.06 2.06-.94-2.06-.94L8.5 2.5l-.94 2.06-2.06.94zm10 10l.94 2.06.94-2.06 2.06-.94-2.06-.94-.94-2.06-.94 2.06-2.06.94z\"/><path d=\"M17.41 7.96l-1.37-1.37c-.4-.4-.92-.59-1.43-.59-.52 0-1.04.2-1.43.59L10.3 9.45l-7.72 7.72c-.78.78-.78 2.05 0 2.83L4 21.41c.39.39.9.59 1.41.59.51 0 1.02-.2 1.41-.59l7.78-7.78 2.81-2.81c.8-.78.8-2.07 0-2.86zM5.41 20L4 18.59l7.72-7.72 1.47 1.35L5.41 20z\"/>\n",
              "  </svg>\n",
              "      </button>\n",
              "      \n",
              "  <style>\n",
              "    .colab-df-container {\n",
              "      display:flex;\n",
              "      flex-wrap:wrap;\n",
              "      gap: 12px;\n",
              "    }\n",
              "\n",
              "    .colab-df-convert {\n",
              "      background-color: #E8F0FE;\n",
              "      border: none;\n",
              "      border-radius: 50%;\n",
              "      cursor: pointer;\n",
              "      display: none;\n",
              "      fill: #1967D2;\n",
              "      height: 32px;\n",
              "      padding: 0 0 0 0;\n",
              "      width: 32px;\n",
              "    }\n",
              "\n",
              "    .colab-df-convert:hover {\n",
              "      background-color: #E2EBFA;\n",
              "      box-shadow: 0px 1px 2px rgba(60, 64, 67, 0.3), 0px 1px 3px 1px rgba(60, 64, 67, 0.15);\n",
              "      fill: #174EA6;\n",
              "    }\n",
              "\n",
              "    [theme=dark] .colab-df-convert {\n",
              "      background-color: #3B4455;\n",
              "      fill: #D2E3FC;\n",
              "    }\n",
              "\n",
              "    [theme=dark] .colab-df-convert:hover {\n",
              "      background-color: #434B5C;\n",
              "      box-shadow: 0px 1px 3px 1px rgba(0, 0, 0, 0.15);\n",
              "      filter: drop-shadow(0px 1px 2px rgba(0, 0, 0, 0.3));\n",
              "      fill: #FFFFFF;\n",
              "    }\n",
              "  </style>\n",
              "\n",
              "      <script>\n",
              "        const buttonEl =\n",
              "          document.querySelector('#df-58ee7986-16e0-4e51-be1f-11a318c51e3d button.colab-df-convert');\n",
              "        buttonEl.style.display =\n",
              "          google.colab.kernel.accessAllowed ? 'block' : 'none';\n",
              "\n",
              "        async function convertToInteractive(key) {\n",
              "          const element = document.querySelector('#df-58ee7986-16e0-4e51-be1f-11a318c51e3d');\n",
              "          const dataTable =\n",
              "            await google.colab.kernel.invokeFunction('convertToInteractive',\n",
              "                                                     [key], {});\n",
              "          if (!dataTable) return;\n",
              "\n",
              "          const docLinkHtml = 'Like what you see? Visit the ' +\n",
              "            '<a target=\"_blank\" href=https://colab.research.google.com/notebooks/data_table.ipynb>data table notebook</a>'\n",
              "            + ' to learn more about interactive tables.';\n",
              "          element.innerHTML = '';\n",
              "          dataTable['output_type'] = 'display_data';\n",
              "          await google.colab.output.renderOutput(dataTable, element);\n",
              "          const docLink = document.createElement('div');\n",
              "          docLink.innerHTML = docLinkHtml;\n",
              "          element.appendChild(docLink);\n",
              "        }\n",
              "      </script>\n",
              "    </div>\n",
              "  </div>\n",
              "  "
            ]
          },
          "metadata": {},
          "execution_count": 42
        }
      ]
    },
    {
      "cell_type": "code",
      "source": [
        "merge_data.to_csv('cleaned_crop_data.csv')"
      ],
      "metadata": {
        "id": "eIUmtXEo5m9T"
      },
      "execution_count": null,
      "outputs": []
    },
    {
      "cell_type": "markdown",
      "source": [
        "# **ML Question**\n",
        "\n",
        "---"
      ],
      "metadata": {
        "id": "C_3K4IJfd5d3"
      }
    },
    {
      "cell_type": "markdown",
      "source": [
        "How can we create a ML model that accurately predicts crop yield given a set of agricultural conditions? "
      ],
      "metadata": {
        "id": "iSd6f8R1d-b0"
      }
    },
    {
      "cell_type": "markdown",
      "source": [
        "# **Data Visualization**\n",
        "\n",
        "---\n",
        "\n"
      ],
      "metadata": {
        "id": "QUne5lyreIlm"
      }
    },
    {
      "cell_type": "code",
      "source": [
        "# Histograms (Numerical Attributes)\n",
        "merge_data.hist(bins=50, figsize=(20,15))\n",
        "plt.show()"
      ],
      "metadata": {
        "colab": {
          "base_uri": "https://localhost:8080/",
          "height": 879
        },
        "id": "3BsjPgI6eTlX",
        "outputId": "d6ef7a74-58a4-43b8-a50b-f6b2a703c362"
      },
      "execution_count": null,
      "outputs": [
        {
          "output_type": "display_data",
          "data": {
            "text/plain": [
              "<Figure size 1440x1080 with 9 Axes>"
            ],
            "image/png": "[encoded data removed]"
          },
          "metadata": {
            "needs_background": "light"
          }
        }
      ]
    },
    {
      "cell_type": "code",
      "source": [
        "# Correlation Matrix (Numerical Attributes)\n",
        "plt.figure(figsize=(20, 10))\n",
        "ax = plt.subplot()\n",
        "\n",
        "sns.heatmap(merge_data.corr(),annot=True, ax=ax)"
      ],
      "metadata": {
        "colab": {
          "base_uri": "https://localhost:8080/",
          "height": 769
        },
        "id": "cSraBN8Ye3HN",
        "outputId": "909affa4-7144-421a-8033-d058c1d82501"
      },
      "execution_count": null,
      "outputs": [
        {
          "output_type": "execute_result",
          "data": {
            "text/plain": [
              "<matplotlib.axes._subplots.AxesSubplot at 0x7f798282ff40>"
            ]
          },
          "metadata": {},
          "execution_count": 196
        },
        {
          "output_type": "display_data",
          "data": {
            "text/plain": [
              "<Figure size 1440x720 with 2 Axes>"
            ],
            "image/png": "[encoded data removed]"
          },
          "metadata": {
            "needs_background": "light"
          }
        }
      ]
    },
    {
      "cell_type": "markdown",
      "source": [
        "# **Creating Train & Test Sets**\n",
        "\n",
        "---\n",
        "\n"
      ],
      "metadata": {
        "id": "Lxf8ACBAf-Sl"
      }
    },
    {
      "cell_type": "code",
      "source": [
        "X = merge_data.drop(columns='crop_yield')\n",
        "y = merge_data.crop_yield"
      ],
      "metadata": {
        "id": "j_aiS4NlzqHj"
      },
      "execution_count": null,
      "outputs": []
    },
    {
      "cell_type": "code",
      "source": [
        "X_train, X_test, y_train, y_test = train_test_split(X, y, stratify=merge_data['crop_name'], train_size=0.80, random_state=21)"
      ],
      "metadata": {
        "id": "iBEdqYh5hoWt"
      },
      "execution_count": null,
      "outputs": []
    },
    {
      "cell_type": "markdown",
      "source": [
        "### **Preprocessing Data**"
      ],
      "metadata": {
        "id": "FISQ2yfYjt65"
      }
    },
    {
      "cell_type": "code",
      "source": [
        "# Created separate pipelines for numerical and categorical variables for easier preprocessing\n",
        "num_pipeline = Pipeline([\n",
        "    ('imputer', SimpleImputer(strategy='median')),\n",
        "    ('standard_scaler', StandardScaler())\n",
        "])\n",
        "\n",
        "cat_pipeline = Pipeline([\n",
        "    ('one_hot_encoder', OneHotEncoder(sparse=False))\n",
        "])"
      ],
      "metadata": {
        "id": "pca7dnP_lQWm"
      },
      "execution_count": null,
      "outputs": []
    },
    {
      "cell_type": "code",
      "source": [
        "# Merged pipelines so that it can be run on the entire dataset\n",
        "# TODO: Add appropriate columns names into lists\n",
        "# merge_data.loc[:, ~merge_data.columns.isin([\"State Name\", \"Dist Name\"])]\n",
        "\n",
        "num_columns = X.select_dtypes(include=np.number).columns\n",
        "cat_columns = ['crop_name']\n",
        "\n",
        "\n",
        "full_pipeline = ColumnTransformer([\n",
        "    ('numerical', num_pipeline, num_columns),\n",
        "    ('categorical', cat_pipeline, cat_columns)\n",
        "])"
      ],
      "metadata": {
        "id": "3R8lQDQrmN09"
      },
      "execution_count": null,
      "outputs": []
    },
    {
      "cell_type": "code",
      "source": [
        "X_train.info()"
      ],
      "metadata": {
        "colab": {
          "base_uri": "https://localhost:8080/"
        },
        "id": "rLcvd7YXnqkD",
        "outputId": "b95dcd1d-3a5b-4264-f119-28b265a364e8"
      },
      "execution_count": null,
      "outputs": [
        {
          "output_type": "stream",
          "name": "stdout",
          "text": [
            "<class 'pandas.core.frame.DataFrame'>\n",
            "Int64Index: 3584 entries, 775 to 3134\n",
            "Data columns (total 9 columns):\n",
            " #   Column                                  Non-Null Count  Dtype  \n",
            "---  ------                                  --------------  -----  \n",
            " 0   NITROGEN SHARE IN NPK (Percent)         3584 non-null   float64\n",
            " 1   PHOSPHATE SHARE IN NPK (Percent)        3584 non-null   float64\n",
            " 2   POTASH SHARE IN NPK (Percent)           3584 non-null   float64\n",
            " 3   LENGTH OF GROWING PERIOD DAYS (Number)  3584 non-null   float64\n",
            " 4   TOTAL AREA (1000 ha)                    3584 non-null   float64\n",
            " 5   GROSS CROPPED AREA (1000 ha)            3584 non-null   float64\n",
            " 6   CROPING INTENSITY (Percent)             3584 non-null   float64\n",
            " 7   ANNUAL RAINFALL (Millimeters)           3584 non-null   float64\n",
            " 8   crop_name                               3584 non-null   object \n",
            "dtypes: float64(8), object(1)\n",
            "memory usage: 280.0+ KB\n"
          ]
        }
      ]
    },
    {
      "cell_type": "code",
      "source": [
        "X_train_prepared = full_pipeline.fit_transform(X_train)"
      ],
      "metadata": {
        "id": "MzsiqIb9nwb4"
      },
      "execution_count": null,
      "outputs": []
    },
    {
      "cell_type": "markdown",
      "source": [
        "# **Models**\n",
        "\n",
        "---\n",
        "\n"
      ],
      "metadata": {
        "id": "E9T_msYzp2BC"
      }
    },
    {
      "cell_type": "code",
      "source": [
        "X_test_prepared = full_pipeline.transform(X_test)"
      ],
      "metadata": {
        "id": "S41jacmmmSVv"
      },
      "execution_count": null,
      "outputs": []
    },
    {
      "cell_type": "code",
      "source": [
        "X_test_prepared.shape"
      ],
      "metadata": {
        "colab": {
          "base_uri": "https://localhost:8080/"
        },
        "id": "5wjfQadwpUhw",
        "outputId": "2d0f3b88-4da2-47e7-dfb8-1c0bbdbfd3f3"
      },
      "execution_count": null,
      "outputs": [
        {
          "output_type": "execute_result",
          "data": {
            "text/plain": [
              "(896, 10)"
            ]
          },
          "metadata": {},
          "execution_count": 204
        }
      ]
    },
    {
      "cell_type": "markdown",
      "source": [
        "### **Linear Regression**"
      ],
      "metadata": {
        "id": "CSLKmSb-l54P"
      }
    },
    {
      "cell_type": "code",
      "source": [
        "# Linear Regression\n",
        "lin_reg = LinearRegression()\n",
        "\n",
        "scores = cross_val_score(lin_reg, X_train_prepared, y_train,\n",
        "                         scoring='neg_mean_squared_error', cv=5)\n",
        "\n",
        "lin_rmse_scores = np.sqrt(-scores)\n",
        "\n",
        "print(lin_rmse_scores.mean())"
      ],
      "metadata": {
        "id": "WlyagcY2qCLH",
        "colab": {
          "base_uri": "https://localhost:8080/"
        },
        "outputId": "afb5ba4d-6f7f-44d4-8985-4ec36c24de8f"
      },
      "execution_count": null,
      "outputs": [
        {
          "output_type": "stream",
          "name": "stdout",
          "text": [
            "1121.9691105096274\n"
          ]
        }
      ]
    },
    {
      "cell_type": "code",
      "source": [
        "lin_reg.fit(X_train_prepared, y_train)"
      ],
      "metadata": {
        "colab": {
          "base_uri": "https://localhost:8080/"
        },
        "id": "HMwQO4s3mHt4",
        "outputId": "e51d47fd-3e48-4405-bbd2-15c56367c5e7"
      },
      "execution_count": null,
      "outputs": [
        {
          "output_type": "execute_result",
          "data": {
            "text/plain": [
              "LinearRegression()"
            ]
          },
          "metadata": {},
          "execution_count": 206
        }
      ]
    },
    {
      "cell_type": "code",
      "source": [
        "lin_reg_pred = lin_reg.predict(X_test_prepared)"
      ],
      "metadata": {
        "id": "KDTfC1ksmckJ"
      },
      "execution_count": null,
      "outputs": []
    },
    {
      "cell_type": "markdown",
      "source": [
        "**Metrics**"
      ],
      "metadata": {
        "id": "p_p_IccAtxh6"
      }
    },
    {
      "cell_type": "code",
      "source": [
        "# Root Mean Squared Error (RMSE)\n",
        "np.sqrt(metrics.mean_squared_error(y_test, lin_reg_pred))"
      ],
      "metadata": {
        "colab": {
          "base_uri": "https://localhost:8080/"
        },
        "id": "26XbTynhmk-i",
        "outputId": "6b310d47-f108-4ba4-d075-9181743151fc"
      },
      "execution_count": null,
      "outputs": [
        {
          "output_type": "execute_result",
          "data": {
            "text/plain": [
              "1173.8825560742573"
            ]
          },
          "metadata": {},
          "execution_count": 208
        }
      ]
    },
    {
      "cell_type": "code",
      "source": [
        "# Mean Absolute Error (MAE)\n",
        "metrics.mean_absolute_error(y_test, lin_reg_pred)"
      ],
      "metadata": {
        "colab": {
          "base_uri": "https://localhost:8080/"
        },
        "id": "Der0BRq-tt4Q",
        "outputId": "1d9806ee-adb9-4619-eb1c-1bd9ba2980b8"
      },
      "execution_count": null,
      "outputs": [
        {
          "output_type": "execute_result",
          "data": {
            "text/plain": [
              "933.9549738935476"
            ]
          },
          "metadata": {},
          "execution_count": 209
        }
      ]
    },
    {
      "cell_type": "code",
      "source": [
        "# Coefficient of Determinaton (R^2)\n",
        "# Indicates how well our model is likely to do on unseen data (closer to 1 is better)\n",
        "metrics.r2_score(y_test, lin_reg_pred)"
      ],
      "metadata": {
        "colab": {
          "base_uri": "https://localhost:8080/"
        },
        "id": "98gPlPEGt0vN",
        "outputId": "a158c6b0-12a4-4461-fa1a-15602e550a05"
      },
      "execution_count": null,
      "outputs": [
        {
          "output_type": "execute_result",
          "data": {
            "text/plain": [
              "0.14423677575130744"
            ]
          },
          "metadata": {},
          "execution_count": 210
        }
      ]
    },
    {
      "cell_type": "markdown",
      "source": [
        "### **Random Forest Regressor**"
      ],
      "metadata": {
        "id": "-hgMyJtLmBa8"
      }
    },
    {
      "cell_type": "code",
      "source": [
        "# Random Forest Regressor\n",
        "forest_reg = RandomForestRegressor(n_estimators=100, random_state=42)\n",
        "\n",
        "scores = cross_val_score(forest_reg, X_train_prepared, y_train,\n",
        "                         scoring='neg_mean_squared_error', cv=5)\n",
        "\n",
        "forest_reg_rmse_scores = np.sqrt(-scores)\n",
        "\n",
        "print(forest_reg_rmse_scores.mean())"
      ],
      "metadata": {
        "id": "PejALGaPn7EQ",
        "colab": {
          "base_uri": "https://localhost:8080/"
        },
        "outputId": "5f192009-52d9-4f70-984a-56ff36224fc9"
      },
      "execution_count": null,
      "outputs": [
        {
          "output_type": "stream",
          "name": "stdout",
          "text": [
            "625.6358965613551\n"
          ]
        }
      ]
    },
    {
      "cell_type": "code",
      "source": [
        "forest_reg.fit(X_train_prepared, y_train)"
      ],
      "metadata": {
        "colab": {
          "base_uri": "https://localhost:8080/"
        },
        "id": "IqvRMyEY-qeK",
        "outputId": "e98b4c9d-5648-4f09-fae9-6cb98e117f80"
      },
      "execution_count": null,
      "outputs": [
        {
          "output_type": "execute_result",
          "data": {
            "text/plain": [
              "RandomForestRegressor(random_state=42)"
            ]
          },
          "metadata": {},
          "execution_count": 212
        }
      ]
    },
    {
      "cell_type": "code",
      "source": [
        "forest_reg_pred = forest_reg.predict(X_test_prepared)"
      ],
      "metadata": {
        "id": "wm3hbq6t-xsP"
      },
      "execution_count": null,
      "outputs": []
    },
    {
      "cell_type": "markdown",
      "source": [
        "**Metrics**\n",
        "\n",
        "---\n",
        "\n"
      ],
      "metadata": {
        "id": "oU__-dq3_J4R"
      }
    },
    {
      "cell_type": "code",
      "source": [
        "# Root Mean Squared Error (RMSE)\n",
        "np.sqrt(metrics.mean_squared_error(y_test, forest_reg_pred))"
      ],
      "metadata": {
        "colab": {
          "base_uri": "https://localhost:8080/"
        },
        "id": "IynHG7VH-5Yw",
        "outputId": "e18b35de-b445-461f-c77d-641f445fce6e"
      },
      "execution_count": null,
      "outputs": [
        {
          "output_type": "execute_result",
          "data": {
            "text/plain": [
              "612.0203594183091"
            ]
          },
          "metadata": {},
          "execution_count": 214
        }
      ]
    },
    {
      "cell_type": "code",
      "source": [
        "# Mean Absolute Error (MAE)\n",
        "metrics.mean_absolute_error(y_test, forest_reg_pred)"
      ],
      "metadata": {
        "colab": {
          "base_uri": "https://localhost:8080/"
        },
        "id": "HC82_Y8a_cyP",
        "outputId": "0f5c13ca-5573-4db7-9d8e-8e19de3d9142"
      },
      "execution_count": null,
      "outputs": [
        {
          "output_type": "execute_result",
          "data": {
            "text/plain": [
              "443.38017299107145"
            ]
          },
          "metadata": {},
          "execution_count": 215
        }
      ]
    },
    {
      "cell_type": "code",
      "source": [
        "# Coefficient of Determinaton (R^2)\n",
        "# Indicates how well our model is likely to do on unseen data (closer to 1 is better)\n",
        "metrics.r2_score(y_test, forest_reg_pred)"
      ],
      "metadata": {
        "colab": {
          "base_uri": "https://localhost:8080/"
        },
        "id": "Nm5lWftj_Po4",
        "outputId": "d491706d-2a72-493b-8b91-0c942975e280"
      },
      "execution_count": null,
      "outputs": [
        {
          "output_type": "execute_result",
          "data": {
            "text/plain": [
              "0.7673858871167454"
            ]
          },
          "metadata": {},
          "execution_count": 216
        }
      ]
    },
    {
      "cell_type": "code",
      "source": [
        "# Variable Importances\n",
        "feature_importances = forest_reg.feature_importances_\n",
        "\n",
        "# Need to complete this step because we put our dataset through a pipeline \n",
        "# and because it has categorical features that have been one-hot encoded\n",
        "num_columns = list(X_test.columns)\n",
        "num_columns.remove('crop_name')\n",
        "\n",
        "cat_encoder = full_pipeline.named_transformers_[\"categorical\"]\n",
        "cat_one_hot_attribs = cat_encoder.get_feature_names_out()\n",
        "attributes = num_columns + list(cat_one_hot_attribs)\n",
        "\n",
        "forest_reg_varimp = sorted(zip(feature_importances, attributes), reverse=True)\n",
        "\n",
        "forest_reg_varimp"
      ],
      "metadata": {
        "colab": {
          "base_uri": "https://localhost:8080/"
        },
        "id": "32EAGQ8P-_5B",
        "outputId": "739c69b2-5ebd-4073-ab7e-6695148afa54"
      },
      "execution_count": null,
      "outputs": [
        {
          "output_type": "execute_result",
          "data": {
            "text/plain": [
              "[(0.19148629033569445, 'CROPING INTENSITY (Percent)'),\n",
              " (0.16057684939978226, 'POTASH SHARE IN NPK (Percent)'),\n",
              " (0.12225015685028112, 'TOTAL AREA (1000 ha)'),\n",
              " (0.11723536282358342, 'GROSS CROPPED AREA (1000 ha)'),\n",
              " (0.11173898508616661, 'LENGTH OF GROWING PERIOD DAYS (Number)'),\n",
              " (0.07360827463321877, 'ANNUAL RAINFALL (Millimeters)'),\n",
              " (0.07268036997752822, 'PHOSPHATE SHARE IN NPK (Percent)'),\n",
              " (0.06422083117799608, 'NITROGEN SHARE IN NPK (Percent)'),\n",
              " (0.0462158343662196, 'crop_name_WHEAT YIELD (Kg per ha)'),\n",
              " (0.03998704534952958, 'crop_name_RICE YIELD (Kg per ha)')]"
            ]
          },
          "metadata": {},
          "execution_count": 217
        }
      ]
    },
    {
      "cell_type": "markdown",
      "source": [
        "### **Decision Tree Regressor**"
      ],
      "metadata": {
        "id": "0Tua5raBozsU"
      }
    },
    {
      "cell_type": "code",
      "source": [
        "# Decision Tree Regressor\n",
        "tree_reg = DecisionTreeRegressor(random_state=42)\n",
        "\n",
        "scores = cross_val_score(tree_reg, X_train_prepared, y_train,\n",
        "                         scoring='neg_mean_squared_error', cv=5)\n",
        "\n",
        "tree_reg_rmse_scores = np.sqrt(-scores)\n",
        "\n",
        "print(tree_reg_rmse_scores.mean())"
      ],
      "metadata": {
        "id": "rEIXgGo9p1a9",
        "colab": {
          "base_uri": "https://localhost:8080/"
        },
        "outputId": "398a8135-d7ce-46d9-d63f-b0a9e759346e"
      },
      "execution_count": null,
      "outputs": [
        {
          "output_type": "stream",
          "name": "stdout",
          "text": [
            "877.3693034290469\n"
          ]
        }
      ]
    },
    {
      "cell_type": "code",
      "source": [
        "tree_reg.fit(X_train_prepared, y_train)"
      ],
      "metadata": {
        "id": "Gtvtwz2ZgAVe",
        "colab": {
          "base_uri": "https://localhost:8080/"
        },
        "outputId": "ed4a488a-3538-4ea7-9417-9dc3d089510f"
      },
      "execution_count": null,
      "outputs": [
        {
          "output_type": "execute_result",
          "data": {
            "text/plain": [
              "DecisionTreeRegressor(random_state=42)"
            ]
          },
          "metadata": {},
          "execution_count": 219
        }
      ]
    },
    {
      "cell_type": "code",
      "source": [
        "tree_reg_pred = tree_reg.predict(X_test_prepared)"
      ],
      "metadata": {
        "id": "uDNkBkSZgFBm"
      },
      "execution_count": null,
      "outputs": []
    },
    {
      "cell_type": "markdown",
      "source": [
        "**Metrics**\n",
        "\n",
        "---\n",
        "\n"
      ],
      "metadata": {
        "id": "UK7yRce2HDKq"
      }
    },
    {
      "cell_type": "code",
      "source": [
        "# Root Mean Squared Error (RMSE)\n",
        "np.sqrt(metrics.mean_squared_error(y_test, tree_reg_pred))"
      ],
      "metadata": {
        "id": "Nyxyt53dgFkp",
        "colab": {
          "base_uri": "https://localhost:8080/"
        },
        "outputId": "280d3844-dda3-426b-f88a-df9aa8f41958"
      },
      "execution_count": null,
      "outputs": [
        {
          "output_type": "execute_result",
          "data": {
            "text/plain": [
              "850.2065058859414"
            ]
          },
          "metadata": {},
          "execution_count": 221
        }
      ]
    },
    {
      "cell_type": "code",
      "source": [
        "# Mean Absolute Error (MAE)\n",
        "metrics.mean_absolute_error(y_test, tree_reg_pred)"
      ],
      "metadata": {
        "id": "3JoqdSEZgJ4-",
        "colab": {
          "base_uri": "https://localhost:8080/"
        },
        "outputId": "734c779b-02bc-4bd3-b6b3-755b21ee2515"
      },
      "execution_count": null,
      "outputs": [
        {
          "output_type": "execute_result",
          "data": {
            "text/plain": [
              "562.774140625"
            ]
          },
          "metadata": {},
          "execution_count": 222
        }
      ]
    },
    {
      "cell_type": "code",
      "source": [
        "# Coefficient of Determinaton (R^2)\n",
        "# Indicates how well our model is likely to do on unseen data (closer to 1 is better)\n",
        "metrics.r2_score(y_test, tree_reg_pred)"
      ],
      "metadata": {
        "id": "RFzKX88lgLdb",
        "colab": {
          "base_uri": "https://localhost:8080/"
        },
        "outputId": "9eed13c0-975a-4a8d-b443-bfd49afff741"
      },
      "execution_count": null,
      "outputs": [
        {
          "output_type": "execute_result",
          "data": {
            "text/plain": [
              "0.5510963167044478"
            ]
          },
          "metadata": {},
          "execution_count": 223
        }
      ]
    },
    {
      "cell_type": "code",
      "source": [
        "# Variable Importances\n",
        "feature_importances = tree_reg.feature_importances_\n",
        "\n",
        "# Need to complete this step because we put our dataset through a pipeline \n",
        "# and because it has categorical features that have been one-hot encoded\n",
        "num_columns = list(X_test.columns)\n",
        "num_columns.remove('crop_name')\n",
        "\n",
        "cat_encoder = full_pipeline.named_transformers_[\"categorical\"]\n",
        "cat_one_hot_attribs = cat_encoder.get_feature_names_out()\n",
        "attributes = num_columns + list(cat_one_hot_attribs)\n",
        "\n",
        "tree_reg_varimp = sorted(zip(feature_importances, attributes), reverse=True)\n",
        "\n",
        "tree_reg_varimp"
      ],
      "metadata": {
        "id": "MwYL3GP0gOx-",
        "colab": {
          "base_uri": "https://localhost:8080/"
        },
        "outputId": "ed5a6c0c-d212-421e-b33e-1940f5493441"
      },
      "execution_count": null,
      "outputs": [
        {
          "output_type": "execute_result",
          "data": {
            "text/plain": [
              "[(0.1904681821827771, 'CROPING INTENSITY (Percent)'),\n",
              " (0.16688450662001086, 'POTASH SHARE IN NPK (Percent)'),\n",
              " (0.1264173657114887, 'LENGTH OF GROWING PERIOD DAYS (Number)'),\n",
              " (0.12525092861856552, 'GROSS CROPPED AREA (1000 ha)'),\n",
              " (0.09889075578438186, 'TOTAL AREA (1000 ha)'),\n",
              " (0.09457400862516088, 'ANNUAL RAINFALL (Millimeters)'),\n",
              " (0.07836328093346688, 'PHOSPHATE SHARE IN NPK (Percent)'),\n",
              " (0.056475673428974395, 'NITROGEN SHARE IN NPK (Percent)'),\n",
              " (0.040782797906359275, 'crop_name_WHEAT YIELD (Kg per ha)'),\n",
              " (0.021892500188814525, 'crop_name_RICE YIELD (Kg per ha)')]"
            ]
          },
          "metadata": {},
          "execution_count": 224
        }
      ]
    },
    {
      "cell_type": "markdown",
      "source": [
        "### **Support Vector Regression (SVR)**"
      ],
      "metadata": {
        "id": "p_vToy6oHyYz"
      }
    },
    {
      "cell_type": "code",
      "source": [
        "# Support Vector Regressor\n",
        "svr_reg = SVR(kernel=\"rbf\", C=1000, degree=3, gamma='scale')\n",
        "\n",
        "scores = cross_val_score(svr_reg, X_train_prepared, y_train,\n",
        "                         scoring='neg_mean_squared_error', cv=5)\n",
        "\n",
        "svr_reg_rmse_scores = np.sqrt(-scores)\n",
        "\n",
        "print(svr_reg_rmse_scores.mean())"
      ],
      "metadata": {
        "colab": {
          "base_uri": "https://localhost:8080/"
        },
        "id": "xC6vaNsRH3GR",
        "outputId": "5caf61c7-2f15-49c1-e005-f484ddca2891"
      },
      "execution_count": null,
      "outputs": [
        {
          "output_type": "stream",
          "name": "stdout",
          "text": [
            "807.072419643958\n"
          ]
        }
      ]
    },
    {
      "cell_type": "code",
      "source": [
        "svr_reg.fit(X_train_prepared, y_train)"
      ],
      "metadata": {
        "colab": {
          "base_uri": "https://localhost:8080/"
        },
        "id": "LRXdNlWqJ9of",
        "outputId": "2e380765-6318-4c63-bb01-081b05f51ac0"
      },
      "execution_count": null,
      "outputs": [
        {
          "output_type": "execute_result",
          "data": {
            "text/plain": [
              "SVR(C=1000)"
            ]
          },
          "metadata": {},
          "execution_count": 226
        }
      ]
    },
    {
      "cell_type": "code",
      "source": [
        "svr_reg_pred = svr_reg.predict(X_test_prepared)"
      ],
      "metadata": {
        "id": "yMydRdPbKC4Z"
      },
      "execution_count": null,
      "outputs": []
    },
    {
      "cell_type": "markdown",
      "source": [
        "**Metrics**\n",
        "\n",
        "---\n",
        "\n"
      ],
      "metadata": {
        "id": "SPqAmKUOKIiK"
      }
    },
    {
      "cell_type": "code",
      "source": [
        "# Root Mean Squared Error (RMSE)\n",
        "np.sqrt(metrics.mean_squared_error(y_test, svr_reg_pred))"
      ],
      "metadata": {
        "colab": {
          "base_uri": "https://localhost:8080/"
        },
        "id": "TxmluSXUKIFZ",
        "outputId": "a8ee3a55-8e53-4e32-974b-7afe52939852"
      },
      "execution_count": null,
      "outputs": [
        {
          "output_type": "execute_result",
          "data": {
            "text/plain": [
              "814.2283668782812"
            ]
          },
          "metadata": {},
          "execution_count": 228
        }
      ]
    },
    {
      "cell_type": "code",
      "source": [
        "# Mean Absolute Error (MAE)\n",
        "metrics.mean_absolute_error(y_test, svr_reg_pred)"
      ],
      "metadata": {
        "colab": {
          "base_uri": "https://localhost:8080/"
        },
        "id": "BVdvEKx6uhuV",
        "outputId": "9feeb940-afb6-44f5-d4e0-d9d77b96404a"
      },
      "execution_count": null,
      "outputs": [
        {
          "output_type": "execute_result",
          "data": {
            "text/plain": [
              "612.9147276559995"
            ]
          },
          "metadata": {},
          "execution_count": 229
        }
      ]
    },
    {
      "cell_type": "code",
      "source": [
        "# Coefficient of Determinaton (R^2)\n",
        "# Indicates how well our model is likely to do on unseen data (closer to 1 is better)\n",
        "metrics.r2_score(y_test, svr_reg_pred)"
      ],
      "metadata": {
        "colab": {
          "base_uri": "https://localhost:8080/"
        },
        "id": "Lp4VLNqBuj7u",
        "outputId": "1b680b46-9766-4b5b-9623-2a3f912a6efd"
      },
      "execution_count": null,
      "outputs": [
        {
          "output_type": "execute_result",
          "data": {
            "text/plain": [
              "0.5882849161583815"
            ]
          },
          "metadata": {},
          "execution_count": 230
        }
      ]
    },
    {
      "cell_type": "markdown",
      "source": [
        "# **Hyperparameter Tuning**\n",
        "\n",
        "---\n",
        "\n"
      ],
      "metadata": {
        "id": "grOyA9vgHNk2"
      }
    },
    {
      "cell_type": "code",
      "source": [
        "\n",
        "'''\n",
        "param_grid = [\n",
        "    {'n_estimators': [50, 100, 1000, 5000], 'max_features': [3, 7, 10]},\n",
        "    {'bootstrap': [False], 'n_estimators': [50,100,1000,5000], 'max_features': [3, 7, 10]},\n",
        "  ]\n",
        "\n",
        "# 604.724904547234 {'bootstrap': False, 'max_features': 3, 'n_estimators': 5000}\n",
        "# Test: 592.5906389196115\n",
        "'''\n",
        "\n",
        "'''\n",
        "param_grid = [\n",
        "    {'n_estimators': [750,1000,1250,1500], 'max_features': [3, 7, 10]},\n",
        "    {'bootstrap': [False], 'n_estimators': [750,1000,1250,1500], 'max_features': [3, 7, 10]},\n",
        "  ]\n",
        "\n",
        "# Best Estimator: 605.0191554816561 {'bootstrap': False, 'max_features': 3, 'n_estimators': 1250}\n",
        "# Test: 593.0575860690822\n",
        "'''\n",
        "\n",
        "'''\n",
        "param_grid = [\n",
        "    {'bootstrap': [False], 'n_estimators': [1000], 'max_features': [3, 5, 7, 10], 'max_depth': [2, 4, 6, 8]},\n",
        "  ]\n",
        "\n",
        "# Best Estimator: 712.2574791107221 {'bootstrap': False, 'max_depth': 8, 'max_features': 5, 'n_estimators': 1000}\n",
        "# Test: 709.209203944621\n",
        "'''\n",
        "\n",
        "'''\n",
        "param_grid = [\n",
        "    {'bootstrap': [False], 'n_estimators': [750, 1000, 1250], 'max_features': [2, 3, 6, 10]},\n",
        "  ]\n",
        "\n",
        "# Best Estimator: 596.7383293882662 {'bootstrap': False, 'max_features': 6, 'n_estimators': 1250}\n",
        "# Test: 582.4290361026519\n",
        "'''\n",
        "\n",
        "param_grid = [\n",
        "    {'bootstrap': [False], 'n_estimators': [750], 'max_features': [6]},\n",
        "  ]\n"
      ],
      "metadata": {
        "id": "o4tB6tBoo7vP"
      },
      "execution_count": null,
      "outputs": []
    },
    {
      "cell_type": "code",
      "source": [
        "forest_reg = RandomForestRegressor(random_state=42)\n",
        "grid_search_forest = GridSearchCV(forest_reg, param_grid, cv=10,\n",
        "                           scoring='neg_mean_squared_error',\n",
        "                           return_train_score=True)"
      ],
      "metadata": {
        "id": "nSXN-wvQpjow"
      },
      "execution_count": null,
      "outputs": []
    },
    {
      "cell_type": "code",
      "source": [
        "grid_search_forest.fit(X_train_prepared, y_train)"
      ],
      "metadata": {
        "id": "09gpzHj3pptA"
      },
      "execution_count": null,
      "outputs": []
    },
    {
      "cell_type": "code",
      "source": [
        "results = grid_search_forest.cv_results_\n",
        "\n",
        "for mean_score, params in zip(results[\"mean_test_score\"], results[\"params\"]):\n",
        "    print(np.sqrt(-mean_score), params)\n",
        "    "
      ],
      "metadata": {
        "id": "NRx_WRrEqRWk"
      },
      "execution_count": null,
      "outputs": []
    },
    {
      "cell_type": "code",
      "source": [
        "grid_search_forest.best_estimator_"
      ],
      "metadata": {
        "id": "G0lV1pNu3vNZ"
      },
      "execution_count": null,
      "outputs": []
    },
    {
      "cell_type": "code",
      "source": [
        "forest_reg_best_model = grid_search_forest.best_estimator_"
      ],
      "metadata": {
        "id": "LJQORVJ0pt64"
      },
      "execution_count": null,
      "outputs": []
    },
    {
      "cell_type": "code",
      "source": [
        "forest_reg_best_model.get_params()"
      ],
      "metadata": {
        "id": "YpY2ck6zzmmV"
      },
      "execution_count": null,
      "outputs": []
    },
    {
      "cell_type": "code",
      "source": [
        "forest_reg_best_model.fit(X_train_prepared, y_train)\n",
        "forest_reg_pred = forest_reg_best_model.predict(X_test_prepared)"
      ],
      "metadata": {
        "id": "aoA7fht2qEdK"
      },
      "execution_count": null,
      "outputs": []
    },
    {
      "cell_type": "code",
      "source": [
        "np.sqrt(metrics.mean_squared_error(y_test, forest_reg_pred))"
      ],
      "metadata": {
        "id": "877ATGRaqLTI"
      },
      "execution_count": null,
      "outputs": []
    },
    {
      "cell_type": "code",
      "source": [
        "# Variable Importances\n",
        "feature_importances = forest_reg_best_model.feature_importances_\n",
        "\n",
        "# Need to complete this step because we put our dataset through a pipeline \n",
        "# and because it has categorical features that have been one-hot encoded\n",
        "num_columns = list(X_test.columns)\n",
        "num_columns.remove('crop_name')\n",
        "\n",
        "cat_encoder = full_pipeline.named_transformers_[\"categorical\"]\n",
        "cat_one_hot_attribs = cat_encoder.get_feature_names_out()\n",
        "attributes = num_columns + list(cat_one_hot_attribs)\n",
        "\n",
        "forest_reg_varimp = sorted(zip(feature_importances, attributes), reverse=True)\n",
        "\n",
        "forest_reg_varimp"
      ],
      "metadata": {
        "id": "Juc5dDn4CvxJ"
      },
      "execution_count": null,
      "outputs": []
    },
    {
      "cell_type": "code",
      "source": [
        "rmse_values = []\n",
        "for i in range(3, 7):\n",
        "  forest_reg_model = RandomForestRegressor(random_state=42, n_estimators=750, max_features=i, bootstrap=False)\n",
        "  forest_reg_model.fit(X_train_prepared, y_train)\n",
        "  forest_reg_pred = forest_reg_model.predict(X_test_prepared)\n",
        "  rmse = np.sqrt(metrics.mean_squared_error(y_test, forest_reg_pred))\n",
        "  rmse_values.append(rmse)"
      ],
      "metadata": {
        "id": "csHl6-KyGNvj"
      },
      "execution_count": null,
      "outputs": []
    },
    {
      "cell_type": "code",
      "source": [
        "rmse_values"
      ],
      "metadata": {
        "colab": {
          "base_uri": "https://localhost:8080/"
        },
        "id": "CKMY1ka4G6eD",
        "outputId": "ea8272b0-fceb-4edc-c538-debcd91f1aca"
      },
      "execution_count": null,
      "outputs": [
        {
          "output_type": "execute_result",
          "data": {
            "text/plain": [
              "[592.5397632573064, 582.2413243001517, 581.1731657793549, 582.6890763625241]"
            ]
          },
          "metadata": {},
          "execution_count": 92
        }
      ]
    }
  ]
}